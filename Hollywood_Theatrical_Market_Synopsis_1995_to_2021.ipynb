{
  "nbformat": 4,
  "nbformat_minor": 0,
  "metadata": {
    "colab": {
      "name": "Hollywood Theatrical Market Synopsis 1995 to 2021.ipynb",
      "provenance": [],
      "authorship_tag": "ABX9TyOnhTn2JypXJzwUu2GoleDW",
      "include_colab_link": true
    },
    "kernelspec": {
      "name": "python3",
      "display_name": "Python 3"
    },
    "language_info": {
      "name": "python"
    }
  },
  "cells": [
    {
      "cell_type": "markdown",
      "metadata": {
        "id": "view-in-github",
        "colab_type": "text"
      },
      "source": [
        "<a href=\"https://colab.research.google.com/github/aliyusifov99/Hollywood-Theatrical-Market-Synopsis-1995-to-2021/blob/main/Hollywood_Theatrical_Market_Synopsis_1995_to_2021.ipynb\" target=\"_parent\"><img src=\"https://colab.research.google.com/assets/colab-badge.svg\" alt=\"Open In Colab\"/></a>"
      ]
    },
    {
      "cell_type": "markdown",
      "source": [
        "### Importing the necesssary libraries"
      ],
      "metadata": {
        "id": "1gVZ-SAeZktP"
      }
    },
    {
      "cell_type": "code",
      "source": [
        "import pandas as pd\n",
        "import numpy as np\n",
        "import matplotlib.pyplot as plt\n",
        "import seaborn as sns\n",
        "import plotly.graph_objects as go"
      ],
      "metadata": {
        "id": "Cw27boT7aCk8"
      },
      "execution_count": 2,
      "outputs": []
    },
    {
      "cell_type": "markdown",
      "source": [
        "### Importin the datasets"
      ],
      "metadata": {
        "id": "FmgqhBvPaH7K"
      }
    },
    {
      "cell_type": "code",
      "source": [
        "AnnualTicketSales = pd.read_csv('AnnualTicketSales.csv')\n",
        "HighestGrossers = pd.read_csv('HighestGrossers.csv')\n",
        "PopularCreativeTypes = pd.read_csv('PopularCreativeTypes.csv')\n",
        "TopDistributors = pd.read_csv('TopDistributors.csv')\n",
        "TopGenres = pd.read_csv('TopGenres.csv')\n",
        "TopGrossingRatings = pd.read_csv('TopGrossingRatings.csv')\n",
        "TopGrossingSources = pd.read_csv('TopGrossingSources.csv')\n",
        "TopProductionMethods = pd.read_csv('TopProductionMethods.csv')\n",
        "WideReleasesCount = pd.read_csv('WideReleasesCount.csv')"
      ],
      "metadata": {
        "id": "cjtnsLPTaK52"
      },
      "execution_count": 4,
      "outputs": []
    },
    {
      "cell_type": "markdown",
      "source": [
        "I will try to analyze each dataset seperately in this notebook"
      ],
      "metadata": {
        "id": "eq1S4YAla52F"
      }
    },
    {
      "cell_type": "markdown",
      "source": [
        "### Annual Ticket Sales analysis"
      ],
      "metadata": {
        "id": "_q9jVdUnbAVV"
      }
    },
    {
      "cell_type": "code",
      "source": [
        "AnnualTicketSales.head()"
      ],
      "metadata": {
        "colab": {
          "base_uri": "https://localhost:8080/",
          "height": 206
        },
        "id": "rP6wf3ogbDJy",
        "outputId": "406e68e6-c56b-47c4-998f-7a3aadb9a687"
      },
      "execution_count": null,
      "outputs": [
        {
          "output_type": "execute_result",
          "data": {
            "text/html": [
              "\n",
              "  <div id=\"df-a9636d9e-1cd2-475c-bd3d-1dcc24ab927c\">\n",
              "    <div class=\"colab-df-container\">\n",
              "      <div>\n",
              "<style scoped>\n",
              "    .dataframe tbody tr th:only-of-type {\n",
              "        vertical-align: middle;\n",
              "    }\n",
              "\n",
              "    .dataframe tbody tr th {\n",
              "        vertical-align: top;\n",
              "    }\n",
              "\n",
              "    .dataframe thead th {\n",
              "        text-align: right;\n",
              "    }\n",
              "</style>\n",
              "<table border=\"1\" class=\"dataframe\">\n",
              "  <thead>\n",
              "    <tr style=\"text-align: right;\">\n",
              "      <th></th>\n",
              "      <th>YEAR</th>\n",
              "      <th>TICKETS SOLD</th>\n",
              "      <th>TOTAL BOX OFFICE</th>\n",
              "      <th>TOTAL INFLATION ADJUSTED BOX OFFICE</th>\n",
              "      <th>AVERAGE TICKET PRICE</th>\n",
              "      <th>Unnamed: 5</th>\n",
              "    </tr>\n",
              "  </thead>\n",
              "  <tbody>\n",
              "    <tr>\n",
              "      <th>0</th>\n",
              "      <td>2021</td>\n",
              "      <td>42,37,74,881</td>\n",
              "      <td>$3,881,777,912</td>\n",
              "      <td>$3,881,777,912</td>\n",
              "      <td>$9.16</td>\n",
              "      <td>NaN</td>\n",
              "    </tr>\n",
              "    <tr>\n",
              "      <th>1</th>\n",
              "      <td>2020</td>\n",
              "      <td>22,36,38,958</td>\n",
              "      <td>$2,048,534,616</td>\n",
              "      <td>$2,048,534,616</td>\n",
              "      <td>$9.16</td>\n",
              "      <td>NaN</td>\n",
              "    </tr>\n",
              "    <tr>\n",
              "      <th>2</th>\n",
              "      <td>2019</td>\n",
              "      <td>1,22,85,41,629</td>\n",
              "      <td>$11,253,443,955</td>\n",
              "      <td>$11,253,444,050</td>\n",
              "      <td>$9.16</td>\n",
              "      <td>NaN</td>\n",
              "    </tr>\n",
              "    <tr>\n",
              "      <th>3</th>\n",
              "      <td>2018</td>\n",
              "      <td>1,31,15,36,128</td>\n",
              "      <td>$11,948,096,650</td>\n",
              "      <td>$12,013,670,952</td>\n",
              "      <td>$9.11</td>\n",
              "      <td>NaN</td>\n",
              "    </tr>\n",
              "    <tr>\n",
              "      <th>4</th>\n",
              "      <td>2017</td>\n",
              "      <td>1,22,56,39,761</td>\n",
              "      <td>$10,993,991,460</td>\n",
              "      <td>$11,226,860,216</td>\n",
              "      <td>$8.97</td>\n",
              "      <td>NaN</td>\n",
              "    </tr>\n",
              "  </tbody>\n",
              "</table>\n",
              "</div>\n",
              "      <button class=\"colab-df-convert\" onclick=\"convertToInteractive('df-a9636d9e-1cd2-475c-bd3d-1dcc24ab927c')\"\n",
              "              title=\"Convert this dataframe to an interactive table.\"\n",
              "              style=\"display:none;\">\n",
              "        \n",
              "  <svg xmlns=\"http://www.w3.org/2000/svg\" height=\"24px\"viewBox=\"0 0 24 24\"\n",
              "       width=\"24px\">\n",
              "    <path d=\"M0 0h24v24H0V0z\" fill=\"none\"/>\n",
              "    <path d=\"M18.56 5.44l.94 2.06.94-2.06 2.06-.94-2.06-.94-.94-2.06-.94 2.06-2.06.94zm-11 1L8.5 8.5l.94-2.06 2.06-.94-2.06-.94L8.5 2.5l-.94 2.06-2.06.94zm10 10l.94 2.06.94-2.06 2.06-.94-2.06-.94-.94-2.06-.94 2.06-2.06.94z\"/><path d=\"M17.41 7.96l-1.37-1.37c-.4-.4-.92-.59-1.43-.59-.52 0-1.04.2-1.43.59L10.3 9.45l-7.72 7.72c-.78.78-.78 2.05 0 2.83L4 21.41c.39.39.9.59 1.41.59.51 0 1.02-.2 1.41-.59l7.78-7.78 2.81-2.81c.8-.78.8-2.07 0-2.86zM5.41 20L4 18.59l7.72-7.72 1.47 1.35L5.41 20z\"/>\n",
              "  </svg>\n",
              "      </button>\n",
              "      \n",
              "  <style>\n",
              "    .colab-df-container {\n",
              "      display:flex;\n",
              "      flex-wrap:wrap;\n",
              "      gap: 12px;\n",
              "    }\n",
              "\n",
              "    .colab-df-convert {\n",
              "      background-color: #E8F0FE;\n",
              "      border: none;\n",
              "      border-radius: 50%;\n",
              "      cursor: pointer;\n",
              "      display: none;\n",
              "      fill: #1967D2;\n",
              "      height: 32px;\n",
              "      padding: 0 0 0 0;\n",
              "      width: 32px;\n",
              "    }\n",
              "\n",
              "    .colab-df-convert:hover {\n",
              "      background-color: #E2EBFA;\n",
              "      box-shadow: 0px 1px 2px rgba(60, 64, 67, 0.3), 0px 1px 3px 1px rgba(60, 64, 67, 0.15);\n",
              "      fill: #174EA6;\n",
              "    }\n",
              "\n",
              "    [theme=dark] .colab-df-convert {\n",
              "      background-color: #3B4455;\n",
              "      fill: #D2E3FC;\n",
              "    }\n",
              "\n",
              "    [theme=dark] .colab-df-convert:hover {\n",
              "      background-color: #434B5C;\n",
              "      box-shadow: 0px 1px 3px 1px rgba(0, 0, 0, 0.15);\n",
              "      filter: drop-shadow(0px 1px 2px rgba(0, 0, 0, 0.3));\n",
              "      fill: #FFFFFF;\n",
              "    }\n",
              "  </style>\n",
              "\n",
              "      <script>\n",
              "        const buttonEl =\n",
              "          document.querySelector('#df-a9636d9e-1cd2-475c-bd3d-1dcc24ab927c button.colab-df-convert');\n",
              "        buttonEl.style.display =\n",
              "          google.colab.kernel.accessAllowed ? 'block' : 'none';\n",
              "\n",
              "        async function convertToInteractive(key) {\n",
              "          const element = document.querySelector('#df-a9636d9e-1cd2-475c-bd3d-1dcc24ab927c');\n",
              "          const dataTable =\n",
              "            await google.colab.kernel.invokeFunction('convertToInteractive',\n",
              "                                                     [key], {});\n",
              "          if (!dataTable) return;\n",
              "\n",
              "          const docLinkHtml = 'Like what you see? Visit the ' +\n",
              "            '<a target=\"_blank\" href=https://colab.research.google.com/notebooks/data_table.ipynb>data table notebook</a>'\n",
              "            + ' to learn more about interactive tables.';\n",
              "          element.innerHTML = '';\n",
              "          dataTable['output_type'] = 'display_data';\n",
              "          await google.colab.output.renderOutput(dataTable, element);\n",
              "          const docLink = document.createElement('div');\n",
              "          docLink.innerHTML = docLinkHtml;\n",
              "          element.appendChild(docLink);\n",
              "        }\n",
              "      </script>\n",
              "    </div>\n",
              "  </div>\n",
              "  "
            ],
            "text/plain": [
              "   YEAR    TICKETS SOLD  ... AVERAGE TICKET PRICE Unnamed: 5\n",
              "0  2021    42,37,74,881  ...                $9.16        NaN\n",
              "1  2020    22,36,38,958  ...                $9.16        NaN\n",
              "2  2019  1,22,85,41,629  ...                $9.16        NaN\n",
              "3  2018  1,31,15,36,128  ...                $9.11        NaN\n",
              "4  2017  1,22,56,39,761  ...                $8.97        NaN\n",
              "\n",
              "[5 rows x 6 columns]"
            ]
          },
          "metadata": {},
          "execution_count": 99
        }
      ]
    },
    {
      "cell_type": "code",
      "source": [
        "#The number of of null values\n",
        "AnnualTicketSales.isnull().sum()"
      ],
      "metadata": {
        "colab": {
          "base_uri": "https://localhost:8080/"
        },
        "id": "wr7A1dQzbGE1",
        "outputId": "69235851-3df5-4de6-996a-2253eef50ef6"
      },
      "execution_count": null,
      "outputs": [
        {
          "output_type": "execute_result",
          "data": {
            "text/plain": [
              "YEAR                                    0\n",
              "TICKETS SOLD                            0\n",
              "TOTAL BOX OFFICE                        0\n",
              "TOTAL INFLATION ADJUSTED BOX OFFICE     0\n",
              "AVERAGE TICKET PRICE                    0\n",
              "Unnamed: 5                             27\n",
              "dtype: int64"
            ]
          },
          "metadata": {},
          "execution_count": 100
        }
      ]
    },
    {
      "cell_type": "code",
      "source": [
        "# Removing Unnecessay Unnamed: 5 column\n",
        "AnnualTicketSales = AnnualTicketSales.drop('Unnamed: 5', axis=1)"
      ],
      "metadata": {
        "id": "MgGCm7t4bSUl"
      },
      "execution_count": null,
      "outputs": []
    },
    {
      "cell_type": "code",
      "source": [
        "AnnualTicketSales.head()"
      ],
      "metadata": {
        "colab": {
          "base_uri": "https://localhost:8080/",
          "height": 206
        },
        "id": "wKDGt-meb3Cx",
        "outputId": "577c60a2-f20c-42d1-9511-379b2ffa4d28"
      },
      "execution_count": null,
      "outputs": [
        {
          "output_type": "execute_result",
          "data": {
            "text/html": [
              "\n",
              "  <div id=\"df-61bc7d45-e747-46aa-91e1-6fb62fd6aea9\">\n",
              "    <div class=\"colab-df-container\">\n",
              "      <div>\n",
              "<style scoped>\n",
              "    .dataframe tbody tr th:only-of-type {\n",
              "        vertical-align: middle;\n",
              "    }\n",
              "\n",
              "    .dataframe tbody tr th {\n",
              "        vertical-align: top;\n",
              "    }\n",
              "\n",
              "    .dataframe thead th {\n",
              "        text-align: right;\n",
              "    }\n",
              "</style>\n",
              "<table border=\"1\" class=\"dataframe\">\n",
              "  <thead>\n",
              "    <tr style=\"text-align: right;\">\n",
              "      <th></th>\n",
              "      <th>YEAR</th>\n",
              "      <th>TICKETS SOLD</th>\n",
              "      <th>TOTAL BOX OFFICE</th>\n",
              "      <th>TOTAL INFLATION ADJUSTED BOX OFFICE</th>\n",
              "      <th>AVERAGE TICKET PRICE</th>\n",
              "    </tr>\n",
              "  </thead>\n",
              "  <tbody>\n",
              "    <tr>\n",
              "      <th>0</th>\n",
              "      <td>2021</td>\n",
              "      <td>42,37,74,881</td>\n",
              "      <td>$3,881,777,912</td>\n",
              "      <td>$3,881,777,912</td>\n",
              "      <td>$9.16</td>\n",
              "    </tr>\n",
              "    <tr>\n",
              "      <th>1</th>\n",
              "      <td>2020</td>\n",
              "      <td>22,36,38,958</td>\n",
              "      <td>$2,048,534,616</td>\n",
              "      <td>$2,048,534,616</td>\n",
              "      <td>$9.16</td>\n",
              "    </tr>\n",
              "    <tr>\n",
              "      <th>2</th>\n",
              "      <td>2019</td>\n",
              "      <td>1,22,85,41,629</td>\n",
              "      <td>$11,253,443,955</td>\n",
              "      <td>$11,253,444,050</td>\n",
              "      <td>$9.16</td>\n",
              "    </tr>\n",
              "    <tr>\n",
              "      <th>3</th>\n",
              "      <td>2018</td>\n",
              "      <td>1,31,15,36,128</td>\n",
              "      <td>$11,948,096,650</td>\n",
              "      <td>$12,013,670,952</td>\n",
              "      <td>$9.11</td>\n",
              "    </tr>\n",
              "    <tr>\n",
              "      <th>4</th>\n",
              "      <td>2017</td>\n",
              "      <td>1,22,56,39,761</td>\n",
              "      <td>$10,993,991,460</td>\n",
              "      <td>$11,226,860,216</td>\n",
              "      <td>$8.97</td>\n",
              "    </tr>\n",
              "  </tbody>\n",
              "</table>\n",
              "</div>\n",
              "      <button class=\"colab-df-convert\" onclick=\"convertToInteractive('df-61bc7d45-e747-46aa-91e1-6fb62fd6aea9')\"\n",
              "              title=\"Convert this dataframe to an interactive table.\"\n",
              "              style=\"display:none;\">\n",
              "        \n",
              "  <svg xmlns=\"http://www.w3.org/2000/svg\" height=\"24px\"viewBox=\"0 0 24 24\"\n",
              "       width=\"24px\">\n",
              "    <path d=\"M0 0h24v24H0V0z\" fill=\"none\"/>\n",
              "    <path d=\"M18.56 5.44l.94 2.06.94-2.06 2.06-.94-2.06-.94-.94-2.06-.94 2.06-2.06.94zm-11 1L8.5 8.5l.94-2.06 2.06-.94-2.06-.94L8.5 2.5l-.94 2.06-2.06.94zm10 10l.94 2.06.94-2.06 2.06-.94-2.06-.94-.94-2.06-.94 2.06-2.06.94z\"/><path d=\"M17.41 7.96l-1.37-1.37c-.4-.4-.92-.59-1.43-.59-.52 0-1.04.2-1.43.59L10.3 9.45l-7.72 7.72c-.78.78-.78 2.05 0 2.83L4 21.41c.39.39.9.59 1.41.59.51 0 1.02-.2 1.41-.59l7.78-7.78 2.81-2.81c.8-.78.8-2.07 0-2.86zM5.41 20L4 18.59l7.72-7.72 1.47 1.35L5.41 20z\"/>\n",
              "  </svg>\n",
              "      </button>\n",
              "      \n",
              "  <style>\n",
              "    .colab-df-container {\n",
              "      display:flex;\n",
              "      flex-wrap:wrap;\n",
              "      gap: 12px;\n",
              "    }\n",
              "\n",
              "    .colab-df-convert {\n",
              "      background-color: #E8F0FE;\n",
              "      border: none;\n",
              "      border-radius: 50%;\n",
              "      cursor: pointer;\n",
              "      display: none;\n",
              "      fill: #1967D2;\n",
              "      height: 32px;\n",
              "      padding: 0 0 0 0;\n",
              "      width: 32px;\n",
              "    }\n",
              "\n",
              "    .colab-df-convert:hover {\n",
              "      background-color: #E2EBFA;\n",
              "      box-shadow: 0px 1px 2px rgba(60, 64, 67, 0.3), 0px 1px 3px 1px rgba(60, 64, 67, 0.15);\n",
              "      fill: #174EA6;\n",
              "    }\n",
              "\n",
              "    [theme=dark] .colab-df-convert {\n",
              "      background-color: #3B4455;\n",
              "      fill: #D2E3FC;\n",
              "    }\n",
              "\n",
              "    [theme=dark] .colab-df-convert:hover {\n",
              "      background-color: #434B5C;\n",
              "      box-shadow: 0px 1px 3px 1px rgba(0, 0, 0, 0.15);\n",
              "      filter: drop-shadow(0px 1px 2px rgba(0, 0, 0, 0.3));\n",
              "      fill: #FFFFFF;\n",
              "    }\n",
              "  </style>\n",
              "\n",
              "      <script>\n",
              "        const buttonEl =\n",
              "          document.querySelector('#df-61bc7d45-e747-46aa-91e1-6fb62fd6aea9 button.colab-df-convert');\n",
              "        buttonEl.style.display =\n",
              "          google.colab.kernel.accessAllowed ? 'block' : 'none';\n",
              "\n",
              "        async function convertToInteractive(key) {\n",
              "          const element = document.querySelector('#df-61bc7d45-e747-46aa-91e1-6fb62fd6aea9');\n",
              "          const dataTable =\n",
              "            await google.colab.kernel.invokeFunction('convertToInteractive',\n",
              "                                                     [key], {});\n",
              "          if (!dataTable) return;\n",
              "\n",
              "          const docLinkHtml = 'Like what you see? Visit the ' +\n",
              "            '<a target=\"_blank\" href=https://colab.research.google.com/notebooks/data_table.ipynb>data table notebook</a>'\n",
              "            + ' to learn more about interactive tables.';\n",
              "          element.innerHTML = '';\n",
              "          dataTable['output_type'] = 'display_data';\n",
              "          await google.colab.output.renderOutput(dataTable, element);\n",
              "          const docLink = document.createElement('div');\n",
              "          docLink.innerHTML = docLinkHtml;\n",
              "          element.appendChild(docLink);\n",
              "        }\n",
              "      </script>\n",
              "    </div>\n",
              "  </div>\n",
              "  "
            ],
            "text/plain": [
              "   YEAR  ... AVERAGE TICKET PRICE\n",
              "0  2021  ...                $9.16\n",
              "1  2020  ...                $9.16\n",
              "2  2019  ...                $9.16\n",
              "3  2018  ...                $9.11\n",
              "4  2017  ...                $8.97\n",
              "\n",
              "[5 rows x 5 columns]"
            ]
          },
          "metadata": {},
          "execution_count": 102
        }
      ]
    },
    {
      "cell_type": "code",
      "source": [
        "AnnualTicketSales.info()"
      ],
      "metadata": {
        "colab": {
          "base_uri": "https://localhost:8080/"
        },
        "id": "0vVDs39B-zaS",
        "outputId": "9114677b-c347-4f92-8a50-a50b18502e64"
      },
      "execution_count": null,
      "outputs": [
        {
          "output_type": "stream",
          "name": "stdout",
          "text": [
            "<class 'pandas.core.frame.DataFrame'>\n",
            "RangeIndex: 27 entries, 0 to 26\n",
            "Data columns (total 5 columns):\n",
            " #   Column                               Non-Null Count  Dtype \n",
            "---  ------                               --------------  ----- \n",
            " 0   YEAR                                 27 non-null     int64 \n",
            " 1   TICKETS SOLD                         27 non-null     object\n",
            " 2   TOTAL BOX OFFICE                     27 non-null     object\n",
            " 3   TOTAL INFLATION ADJUSTED BOX OFFICE  27 non-null     object\n",
            " 4   AVERAGE TICKET PRICE                 27 non-null     object\n",
            "dtypes: int64(1), object(4)\n",
            "memory usage: 1.2+ KB\n"
          ]
        }
      ]
    },
    {
      "cell_type": "markdown",
      "source": [
        "As we see type of our some values are object. We need to convert them to integer and float first. "
      ],
      "metadata": {
        "id": "ghUI6_74_ZZZ"
      }
    },
    {
      "cell_type": "code",
      "source": [
        "#Converting TICKET SOLD from object to int\n",
        "AnnualTicketSales['TICKETS SOLD']=AnnualTicketSales['TICKETS SOLD'].replace(',','', regex=True)\n",
        "AnnualTicketSales['TICKETS SOLD']=pd.to_numeric(AnnualTicketSales['TICKETS SOLD'])\n",
        "\n",
        "#Converting TOTAL BOX OFFICE from object to int\n",
        "AnnualTicketSales['TOTAL BOX OFFICE']=AnnualTicketSales['TOTAL BOX OFFICE'].replace(',','', regex=True)\n",
        "AnnualTicketSales['TOTAL BOX OFFICE']=AnnualTicketSales['TOTAL BOX OFFICE'].str.replace('$','', regex=True)\n",
        "AnnualTicketSales['TOTAL BOX OFFICE']=pd.to_numeric(AnnualTicketSales['TOTAL BOX OFFICE'])\n",
        "\n",
        "#Converting TOTAL INFLATION ADJUSTED BOX OFFICE from object to int\n",
        "AnnualTicketSales['TOTAL INFLATION ADJUSTED BOX OFFICE']=AnnualTicketSales['TOTAL INFLATION ADJUSTED BOX OFFICE'].replace(',','', regex=True)\n",
        "AnnualTicketSales['TOTAL INFLATION ADJUSTED BOX OFFICE']=AnnualTicketSales['TOTAL INFLATION ADJUSTED BOX OFFICE'].str.replace('$','', regex=True)\n",
        "AnnualTicketSales['TOTAL INFLATION ADJUSTED BOX OFFICE']=pd.to_numeric(AnnualTicketSales['TOTAL INFLATION ADJUSTED BOX OFFICE'])\n",
        "\n",
        "\n",
        "#Converting AVERAGE TICKET PRICE from object to int\n",
        "AnnualTicketSales['AVERAGE TICKET PRICE']=AnnualTicketSales['AVERAGE TICKET PRICE'].replace(',','', regex=True)\n",
        "AnnualTicketSales['AVERAGE TICKET PRICE']=AnnualTicketSales['AVERAGE TICKET PRICE'].str.replace('$','', regex=True)\n",
        "AnnualTicketSales['AVERAGE TICKET PRICE']=pd.to_numeric(AnnualTicketSales['AVERAGE TICKET PRICE'])\n"
      ],
      "metadata": {
        "id": "Hq20GDbm_qe6"
      },
      "execution_count": null,
      "outputs": []
    },
    {
      "cell_type": "code",
      "source": [
        "#Final DataFrame\n",
        "AnnualTicketSales.head()"
      ],
      "metadata": {
        "colab": {
          "base_uri": "https://localhost:8080/",
          "height": 206
        },
        "id": "RnGmMsyECv8w",
        "outputId": "a9e1e339-3794-4cf2-fef7-66ce44647058"
      },
      "execution_count": null,
      "outputs": [
        {
          "output_type": "execute_result",
          "data": {
            "text/html": [
              "\n",
              "  <div id=\"df-9db1bb3d-f262-477e-8e30-57fe7cd01394\">\n",
              "    <div class=\"colab-df-container\">\n",
              "      <div>\n",
              "<style scoped>\n",
              "    .dataframe tbody tr th:only-of-type {\n",
              "        vertical-align: middle;\n",
              "    }\n",
              "\n",
              "    .dataframe tbody tr th {\n",
              "        vertical-align: top;\n",
              "    }\n",
              "\n",
              "    .dataframe thead th {\n",
              "        text-align: right;\n",
              "    }\n",
              "</style>\n",
              "<table border=\"1\" class=\"dataframe\">\n",
              "  <thead>\n",
              "    <tr style=\"text-align: right;\">\n",
              "      <th></th>\n",
              "      <th>YEAR</th>\n",
              "      <th>TICKETS SOLD</th>\n",
              "      <th>TOTAL BOX OFFICE</th>\n",
              "      <th>TOTAL INFLATION ADJUSTED BOX OFFICE</th>\n",
              "      <th>AVERAGE TICKET PRICE</th>\n",
              "    </tr>\n",
              "  </thead>\n",
              "  <tbody>\n",
              "    <tr>\n",
              "      <th>0</th>\n",
              "      <td>2021</td>\n",
              "      <td>423774881</td>\n",
              "      <td>3881777912</td>\n",
              "      <td>3881777912</td>\n",
              "      <td>9.16</td>\n",
              "    </tr>\n",
              "    <tr>\n",
              "      <th>1</th>\n",
              "      <td>2020</td>\n",
              "      <td>223638958</td>\n",
              "      <td>2048534616</td>\n",
              "      <td>2048534616</td>\n",
              "      <td>9.16</td>\n",
              "    </tr>\n",
              "    <tr>\n",
              "      <th>2</th>\n",
              "      <td>2019</td>\n",
              "      <td>1228541629</td>\n",
              "      <td>11253443955</td>\n",
              "      <td>11253444050</td>\n",
              "      <td>9.16</td>\n",
              "    </tr>\n",
              "    <tr>\n",
              "      <th>3</th>\n",
              "      <td>2018</td>\n",
              "      <td>1311536128</td>\n",
              "      <td>11948096650</td>\n",
              "      <td>12013670952</td>\n",
              "      <td>9.11</td>\n",
              "    </tr>\n",
              "    <tr>\n",
              "      <th>4</th>\n",
              "      <td>2017</td>\n",
              "      <td>1225639761</td>\n",
              "      <td>10993991460</td>\n",
              "      <td>11226860216</td>\n",
              "      <td>8.97</td>\n",
              "    </tr>\n",
              "  </tbody>\n",
              "</table>\n",
              "</div>\n",
              "      <button class=\"colab-df-convert\" onclick=\"convertToInteractive('df-9db1bb3d-f262-477e-8e30-57fe7cd01394')\"\n",
              "              title=\"Convert this dataframe to an interactive table.\"\n",
              "              style=\"display:none;\">\n",
              "        \n",
              "  <svg xmlns=\"http://www.w3.org/2000/svg\" height=\"24px\"viewBox=\"0 0 24 24\"\n",
              "       width=\"24px\">\n",
              "    <path d=\"M0 0h24v24H0V0z\" fill=\"none\"/>\n",
              "    <path d=\"M18.56 5.44l.94 2.06.94-2.06 2.06-.94-2.06-.94-.94-2.06-.94 2.06-2.06.94zm-11 1L8.5 8.5l.94-2.06 2.06-.94-2.06-.94L8.5 2.5l-.94 2.06-2.06.94zm10 10l.94 2.06.94-2.06 2.06-.94-2.06-.94-.94-2.06-.94 2.06-2.06.94z\"/><path d=\"M17.41 7.96l-1.37-1.37c-.4-.4-.92-.59-1.43-.59-.52 0-1.04.2-1.43.59L10.3 9.45l-7.72 7.72c-.78.78-.78 2.05 0 2.83L4 21.41c.39.39.9.59 1.41.59.51 0 1.02-.2 1.41-.59l7.78-7.78 2.81-2.81c.8-.78.8-2.07 0-2.86zM5.41 20L4 18.59l7.72-7.72 1.47 1.35L5.41 20z\"/>\n",
              "  </svg>\n",
              "      </button>\n",
              "      \n",
              "  <style>\n",
              "    .colab-df-container {\n",
              "      display:flex;\n",
              "      flex-wrap:wrap;\n",
              "      gap: 12px;\n",
              "    }\n",
              "\n",
              "    .colab-df-convert {\n",
              "      background-color: #E8F0FE;\n",
              "      border: none;\n",
              "      border-radius: 50%;\n",
              "      cursor: pointer;\n",
              "      display: none;\n",
              "      fill: #1967D2;\n",
              "      height: 32px;\n",
              "      padding: 0 0 0 0;\n",
              "      width: 32px;\n",
              "    }\n",
              "\n",
              "    .colab-df-convert:hover {\n",
              "      background-color: #E2EBFA;\n",
              "      box-shadow: 0px 1px 2px rgba(60, 64, 67, 0.3), 0px 1px 3px 1px rgba(60, 64, 67, 0.15);\n",
              "      fill: #174EA6;\n",
              "    }\n",
              "\n",
              "    [theme=dark] .colab-df-convert {\n",
              "      background-color: #3B4455;\n",
              "      fill: #D2E3FC;\n",
              "    }\n",
              "\n",
              "    [theme=dark] .colab-df-convert:hover {\n",
              "      background-color: #434B5C;\n",
              "      box-shadow: 0px 1px 3px 1px rgba(0, 0, 0, 0.15);\n",
              "      filter: drop-shadow(0px 1px 2px rgba(0, 0, 0, 0.3));\n",
              "      fill: #FFFFFF;\n",
              "    }\n",
              "  </style>\n",
              "\n",
              "      <script>\n",
              "        const buttonEl =\n",
              "          document.querySelector('#df-9db1bb3d-f262-477e-8e30-57fe7cd01394 button.colab-df-convert');\n",
              "        buttonEl.style.display =\n",
              "          google.colab.kernel.accessAllowed ? 'block' : 'none';\n",
              "\n",
              "        async function convertToInteractive(key) {\n",
              "          const element = document.querySelector('#df-9db1bb3d-f262-477e-8e30-57fe7cd01394');\n",
              "          const dataTable =\n",
              "            await google.colab.kernel.invokeFunction('convertToInteractive',\n",
              "                                                     [key], {});\n",
              "          if (!dataTable) return;\n",
              "\n",
              "          const docLinkHtml = 'Like what you see? Visit the ' +\n",
              "            '<a target=\"_blank\" href=https://colab.research.google.com/notebooks/data_table.ipynb>data table notebook</a>'\n",
              "            + ' to learn more about interactive tables.';\n",
              "          element.innerHTML = '';\n",
              "          dataTable['output_type'] = 'display_data';\n",
              "          await google.colab.output.renderOutput(dataTable, element);\n",
              "          const docLink = document.createElement('div');\n",
              "          docLink.innerHTML = docLinkHtml;\n",
              "          element.appendChild(docLink);\n",
              "        }\n",
              "      </script>\n",
              "    </div>\n",
              "  </div>\n",
              "  "
            ],
            "text/plain": [
              "   YEAR  ...  AVERAGE TICKET PRICE\n",
              "0  2021  ...                  9.16\n",
              "1  2020  ...                  9.16\n",
              "2  2019  ...                  9.16\n",
              "3  2018  ...                  9.11\n",
              "4  2017  ...                  8.97\n",
              "\n",
              "[5 rows x 5 columns]"
            ]
          },
          "metadata": {},
          "execution_count": 105
        }
      ]
    },
    {
      "cell_type": "code",
      "source": [
        "# Average Ticket Price change yearly\n",
        "figure=plt.Figure()\n",
        "plt.scatter(AnnualTicketSales['YEAR'], AnnualTicketSales['AVERAGE TICKET PRICE'])\n",
        "plt.ylabel('AVERAGE TICKET PRICE')\n",
        "plt.xlabel('YEAR')\n",
        "plt.title('AVERAGE TICKET PRICE PER YEAR')\n",
        "plt.show()"
      ],
      "metadata": {
        "colab": {
          "base_uri": "https://localhost:8080/",
          "height": 279
        },
        "id": "uhZElJa5b6U7",
        "outputId": "a69f7942-b199-4e12-f5c6-5a8fc62fa50c"
      },
      "execution_count": null,
      "outputs": [
        {
          "output_type": "display_data",
          "data": {
            "image/png": "[encoded data removed]",
            "text/plain": [
              "<Figure size 432x288 with 1 Axes>"
            ]
          },
          "metadata": {
            "needs_background": "light"
          }
        }
      ]
    },
    {
      "cell_type": "markdown",
      "source": [
        "From scatter plot we can observe that Ticket Price has been increased from 3 dollar to around 10$ throughout these years."
      ],
      "metadata": {
        "id": "zCAH0FusDQv5"
      }
    },
    {
      "cell_type": "code",
      "source": [
        "# Total tickets sold every year\n",
        "plt.bar(AnnualTicketSales['YEAR'], AnnualTicketSales['TICKETS SOLD'])\n",
        "plt.xlabel(\"YEAR\")\n",
        "plt.ylabel(\"TICKETS SOLD (in billions)\")\n",
        "plt.title(\"TICKETS SOLD IN BILLIONS EVERY YEAR\")\n",
        "plt.show()"
      ],
      "metadata": {
        "colab": {
          "base_uri": "https://localhost:8080/",
          "height": 295
        },
        "id": "k68BAil-c27y",
        "outputId": "8457a443-0370-4ca3-a6ab-655fdcc00494"
      },
      "execution_count": null,
      "outputs": [
        {
          "output_type": "display_data",
          "data": {
            "image/png": "[encoded data removed]",
            "text/plain": [
              "<Figure size 432x288 with 1 Axes>"
            ]
          },
          "metadata": {
            "needs_background": "light"
          }
        }
      ]
    },
    {
      "cell_type": "markdown",
      "source": [
        "From the barplot we can see that total tickets sold fro 1995 till 2020 did not change much. Only last 2 years we can observe the lowest values."
      ],
      "metadata": {
        "id": "nKc8CBcd-XrH"
      }
    },
    {
      "cell_type": "code",
      "source": [
        "#Total Box Office and Inflation from 1995 to 2020\n",
        "fig = go.Figure()\n",
        "\n",
        "# Add graph object\n",
        "fig.add_trace(go.Scatter(x=AnnualTicketSales['YEAR'],\n",
        "                        y=AnnualTicketSales['TOTAL BOX OFFICE'],\n",
        "                        mode='markers+lines',\n",
        "                        name='TOTAL BOX OFFICE',\n",
        "                        marker=dict(color='rgba(200, 148, 237,.7)')))\n",
        "\n",
        "fig.add_trace(go.Scatter(x=AnnualTicketSales['YEAR'],\n",
        "                        y=AnnualTicketSales['TOTAL INFLATION ADJUSTED BOX OFFICE'],\n",
        "                        mode='markers+lines',\n",
        "                        name='TOTAL INFLATION ADJUSTED BOX OFFICE',\n",
        "                        marker=dict(color='rgba(205, 210, 250,.7)')))\n",
        "\n",
        "# Update layout\n",
        "fig.update_layout(title='TOTAL BOX OFFICE AND INFLATION EACH YEAR',\n",
        "                 yaxis=dict(showgrid=False, showline=True, linecolor='rgb(0,0,0)', title='USD'),\n",
        "                 xaxis=dict(showgrid=False, showline=True, linecolor='rgb(0,0,0)', title='YEAR'),\n",
        "                 paper_bgcolor='rgb(255,255,255)',\n",
        "                 plot_bgcolor='rgb(255,255,255)',\n",
        "                 hovermode='x unified')\n",
        "\n",
        "# Add annotation with arrow\n",
        "fig.add_annotation(x=AnnualTicketSales.iloc[AnnualTicketSales['TOTAL INFLATION ADJUSTED BOX OFFICE'].argmax()].YEAR,\n",
        "                    y=AnnualTicketSales['TOTAL INFLATION ADJUSTED BOX OFFICE'][AnnualTicketSales.YEAR==AnnualTicketSales.iloc[AnnualTicketSales['TOTAL INFLATION ADJUSTED BOX OFFICE'].argmax()].YEAR].values[0],\n",
        "                    text='Highest TOTAL INFLATION BOX OFFICE')\n",
        "\n",
        "fig.add_annotation(x=AnnualTicketSales.iloc[AnnualTicketSales['TOTAL BOX OFFICE'].argmax()].YEAR,\n",
        "                    y=AnnualTicketSales['TOTAL BOX OFFICE'][AnnualTicketSales.YEAR==AnnualTicketSales.iloc[AnnualTicketSales['TOTAL BOX OFFICE'].argmax()].YEAR].values[0],\n",
        "                    text='Highest TOTAL BOX OFFICE')\n",
        "fig.show()"
      ],
      "metadata": {
        "colab": {
          "base_uri": "https://localhost:8080/",
          "height": 542
        },
        "id": "rqBUxKuCEwr7",
        "outputId": "9b67eeef-9180-4d28-d698-e29eb35f1bb5"
      },
      "execution_count": null,
      "outputs": [
        {
          "output_type": "display_data",
          "data": {
            "text/html": [
              "<html>\n",
              "<head><meta charset=\"utf-8\" /></head>\n",
              "<body>\n",
              "    <div>            <script src=\"https://cdnjs.cloudflare.com/ajax/libs/mathjax/2.7.5/MathJax.js?config=TeX-AMS-MML_SVG\"></script><script type=\"text/javascript\">if (window.MathJax) {MathJax.Hub.Config({SVG: {font: \"STIX-Web\"}});}</script>                <script type=\"text/javascript\">window.PlotlyConfig = {MathJaxConfig: 'local'};</script>\n",
              "        <script src=\"https://cdn.plot.ly/plotly-2.8.3.min.js\"></script>                <div id=\"6a2aed83-2426-4ece-8a1f-57b9177b3f1e\" class=\"plotly-graph-div\" style=\"height:525px; width:100%;\"></div>            <script type=\"text/javascript\">                                    window.PLOTLYENV=window.PLOTLYENV || {};                                    if (document.getElementById(\"6a2aed83-2426-4ece-8a1f-57b9177b3f1e\")) {                    Plotly.newPlot(                        \"6a2aed83-2426-4ece-8a1f-57b9177b3f1e\",                        [{\"marker\":{\"color\":\"rgba(200, 148, 237,.7)\"},\"mode\":\"markers+lines\",\"name\":\"TOTAL BOX OFFICE\",\"x\":[2021,2020,2019,2018,2017,2016,2015,2014,2013,2012,2011,2010,2009,2008,2007,2006,2005,2004,2003,2002,2001,2000,1999,1998,1997,1996,1995],\"y\":[3881777912,2048534616,11253443955,11948096650,10993991460,11267115924,11155900636,10272985008,10887446341,10992141616,10173519704,10482254025,10639257284,9750744148,9769854914,9161738221,8800805718,9287996519,9193277289,9155147215,8296849636,7532311479,7338894852,6771575283,6230235770,5769078886,5314421390],\"type\":\"scatter\"},{\"marker\":{\"color\":\"rgba(205, 210, 250,.7)\"},\"mode\":\"markers+lines\",\"name\":\"TOTAL INFLATION ADJUSTED BOX OFFICE\",\"x\":[2021,2020,2019,2018,2017,2016,2015,2014,2013,2012,2011,2010,2009,2008,2007,2006,2005,2004,2003,2002,2001,2000,1999,1998,1997,1996,1995],\"y\":[3881777912,2048534616,11253444050,12013670952,11226860216,11931416424,12121948075,11517810744,12266787382,12649244986,11751502955,12169509032,12994051137,12439665380,13007535993,12812442671,12576499367,13700165883,13965240914,14433929789,13427407722,12800734319,13233123027,13225505439,12433322785,11955781912,11190826105],\"type\":\"scatter\"}],                        {\"template\":{\"data\":{\"bar\":[{\"error_x\":{\"color\":\"#2a3f5f\"},\"error_y\":{\"color\":\"#2a3f5f\"},\"marker\":{\"line\":{\"color\":\"#E5ECF6\",\"width\":0.5},\"pattern\":{\"fillmode\":\"overlay\",\"size\":10,\"solidity\":0.2}},\"type\":\"bar\"}],\"barpolar\":[{\"marker\":{\"line\":{\"color\":\"#E5ECF6\",\"width\":0.5},\"pattern\":{\"fillmode\":\"overlay\",\"size\":10,\"solidity\":0.2}},\"type\":\"barpolar\"}],\"carpet\":[{\"aaxis\":{\"endlinecolor\":\"#2a3f5f\",\"gridcolor\":\"white\",\"linecolor\":\"white\",\"minorgridcolor\":\"white\",\"startlinecolor\":\"#2a3f5f\"},\"baxis\":{\"endlinecolor\":\"#2a3f5f\",\"gridcolor\":\"white\",\"linecolor\":\"white\",\"minorgridcolor\":\"white\",\"startlinecolor\":\"#2a3f5f\"},\"type\":\"carpet\"}],\"choropleth\":[{\"colorbar\":{\"outlinewidth\":0,\"ticks\":\"\"},\"type\":\"choropleth\"}],\"contour\":[{\"colorbar\":{\"outlinewidth\":0,\"ticks\":\"\"},\"colorscale\":[[0.0,\"#0d0887\"],[0.1111111111111111,\"#46039f\"],[0.2222222222222222,\"#7201a8\"],[0.3333333333333333,\"#9c179e\"],[0.4444444444444444,\"#bd3786\"],[0.5555555555555556,\"#d8576b\"],[0.6666666666666666,\"#ed7953\"],[0.7777777777777778,\"#fb9f3a\"],[0.8888888888888888,\"#fdca26\"],[1.0,\"#f0f921\"]],\"type\":\"contour\"}],\"contourcarpet\":[{\"colorbar\":{\"outlinewidth\":0,\"ticks\":\"\"},\"type\":\"contourcarpet\"}],\"heatmap\":[{\"colorbar\":{\"outlinewidth\":0,\"ticks\":\"\"},\"colorscale\":[[0.0,\"#0d0887\"],[0.1111111111111111,\"#46039f\"],[0.2222222222222222,\"#7201a8\"],[0.3333333333333333,\"#9c179e\"],[0.4444444444444444,\"#bd3786\"],[0.5555555555555556,\"#d8576b\"],[0.6666666666666666,\"#ed7953\"],[0.7777777777777778,\"#fb9f3a\"],[0.8888888888888888,\"#fdca26\"],[1.0,\"#f0f921\"]],\"type\":\"heatmap\"}],\"heatmapgl\":[{\"colorbar\":{\"outlinewidth\":0,\"ticks\":\"\"},\"colorscale\":[[0.0,\"#0d0887\"],[0.1111111111111111,\"#46039f\"],[0.2222222222222222,\"#7201a8\"],[0.3333333333333333,\"#9c179e\"],[0.4444444444444444,\"#bd3786\"],[0.5555555555555556,\"#d8576b\"],[0.6666666666666666,\"#ed7953\"],[0.7777777777777778,\"#fb9f3a\"],[0.8888888888888888,\"#fdca26\"],[1.0,\"#f0f921\"]],\"type\":\"heatmapgl\"}],\"histogram\":[{\"marker\":{\"pattern\":{\"fillmode\":\"overlay\",\"size\":10,\"solidity\":0.2}},\"type\":\"histogram\"}],\"histogram2d\":[{\"colorbar\":{\"outlinewidth\":0,\"ticks\":\"\"},\"colorscale\":[[0.0,\"#0d0887\"],[0.1111111111111111,\"#46039f\"],[0.2222222222222222,\"#7201a8\"],[0.3333333333333333,\"#9c179e\"],[0.4444444444444444,\"#bd3786\"],[0.5555555555555556,\"#d8576b\"],[0.6666666666666666,\"#ed7953\"],[0.7777777777777778,\"#fb9f3a\"],[0.8888888888888888,\"#fdca26\"],[1.0,\"#f0f921\"]],\"type\":\"histogram2d\"}],\"histogram2dcontour\":[{\"colorbar\":{\"outlinewidth\":0,\"ticks\":\"\"},\"colorscale\":[[0.0,\"#0d0887\"],[0.1111111111111111,\"#46039f\"],[0.2222222222222222,\"#7201a8\"],[0.3333333333333333,\"#9c179e\"],[0.4444444444444444,\"#bd3786\"],[0.5555555555555556,\"#d8576b\"],[0.6666666666666666,\"#ed7953\"],[0.7777777777777778,\"#fb9f3a\"],[0.8888888888888888,\"#fdca26\"],[1.0,\"#f0f921\"]],\"type\":\"histogram2dcontour\"}],\"mesh3d\":[{\"colorbar\":{\"outlinewidth\":0,\"ticks\":\"\"},\"type\":\"mesh3d\"}],\"parcoords\":[{\"line\":{\"colorbar\":{\"outlinewidth\":0,\"ticks\":\"\"}},\"type\":\"parcoords\"}],\"pie\":[{\"automargin\":true,\"type\":\"pie\"}],\"scatter\":[{\"marker\":{\"colorbar\":{\"outlinewidth\":0,\"ticks\":\"\"}},\"type\":\"scatter\"}],\"scatter3d\":[{\"line\":{\"colorbar\":{\"outlinewidth\":0,\"ticks\":\"\"}},\"marker\":{\"colorbar\":{\"outlinewidth\":0,\"ticks\":\"\"}},\"type\":\"scatter3d\"}],\"scattercarpet\":[{\"marker\":{\"colorbar\":{\"outlinewidth\":0,\"ticks\":\"\"}},\"type\":\"scattercarpet\"}],\"scattergeo\":[{\"marker\":{\"colorbar\":{\"outlinewidth\":0,\"ticks\":\"\"}},\"type\":\"scattergeo\"}],\"scattergl\":[{\"marker\":{\"colorbar\":{\"outlinewidth\":0,\"ticks\":\"\"}},\"type\":\"scattergl\"}],\"scattermapbox\":[{\"marker\":{\"colorbar\":{\"outlinewidth\":0,\"ticks\":\"\"}},\"type\":\"scattermapbox\"}],\"scatterpolar\":[{\"marker\":{\"colorbar\":{\"outlinewidth\":0,\"ticks\":\"\"}},\"type\":\"scatterpolar\"}],\"scatterpolargl\":[{\"marker\":{\"colorbar\":{\"outlinewidth\":0,\"ticks\":\"\"}},\"type\":\"scatterpolargl\"}],\"scatterternary\":[{\"marker\":{\"colorbar\":{\"outlinewidth\":0,\"ticks\":\"\"}},\"type\":\"scatterternary\"}],\"surface\":[{\"colorbar\":{\"outlinewidth\":0,\"ticks\":\"\"},\"colorscale\":[[0.0,\"#0d0887\"],[0.1111111111111111,\"#46039f\"],[0.2222222222222222,\"#7201a8\"],[0.3333333333333333,\"#9c179e\"],[0.4444444444444444,\"#bd3786\"],[0.5555555555555556,\"#d8576b\"],[0.6666666666666666,\"#ed7953\"],[0.7777777777777778,\"#fb9f3a\"],[0.8888888888888888,\"#fdca26\"],[1.0,\"#f0f921\"]],\"type\":\"surface\"}],\"table\":[{\"cells\":{\"fill\":{\"color\":\"#EBF0F8\"},\"line\":{\"color\":\"white\"}},\"header\":{\"fill\":{\"color\":\"#C8D4E3\"},\"line\":{\"color\":\"white\"}},\"type\":\"table\"}]},\"layout\":{\"annotationdefaults\":{\"arrowcolor\":\"#2a3f5f\",\"arrowhead\":0,\"arrowwidth\":1},\"autotypenumbers\":\"strict\",\"coloraxis\":{\"colorbar\":{\"outlinewidth\":0,\"ticks\":\"\"}},\"colorscale\":{\"diverging\":[[0,\"#8e0152\"],[0.1,\"#c51b7d\"],[0.2,\"#de77ae\"],[0.3,\"#f1b6da\"],[0.4,\"#fde0ef\"],[0.5,\"#f7f7f7\"],[0.6,\"#e6f5d0\"],[0.7,\"#b8e186\"],[0.8,\"#7fbc41\"],[0.9,\"#4d9221\"],[1,\"#276419\"]],\"sequential\":[[0.0,\"#0d0887\"],[0.1111111111111111,\"#46039f\"],[0.2222222222222222,\"#7201a8\"],[0.3333333333333333,\"#9c179e\"],[0.4444444444444444,\"#bd3786\"],[0.5555555555555556,\"#d8576b\"],[0.6666666666666666,\"#ed7953\"],[0.7777777777777778,\"#fb9f3a\"],[0.8888888888888888,\"#fdca26\"],[1.0,\"#f0f921\"]],\"sequentialminus\":[[0.0,\"#0d0887\"],[0.1111111111111111,\"#46039f\"],[0.2222222222222222,\"#7201a8\"],[0.3333333333333333,\"#9c179e\"],[0.4444444444444444,\"#bd3786\"],[0.5555555555555556,\"#d8576b\"],[0.6666666666666666,\"#ed7953\"],[0.7777777777777778,\"#fb9f3a\"],[0.8888888888888888,\"#fdca26\"],[1.0,\"#f0f921\"]]},\"colorway\":[\"#636efa\",\"#EF553B\",\"#00cc96\",\"#ab63fa\",\"#FFA15A\",\"#19d3f3\",\"#FF6692\",\"#B6E880\",\"#FF97FF\",\"#FECB52\"],\"font\":{\"color\":\"#2a3f5f\"},\"geo\":{\"bgcolor\":\"white\",\"lakecolor\":\"white\",\"landcolor\":\"#E5ECF6\",\"showlakes\":true,\"showland\":true,\"subunitcolor\":\"white\"},\"hoverlabel\":{\"align\":\"left\"},\"hovermode\":\"closest\",\"mapbox\":{\"style\":\"light\"},\"paper_bgcolor\":\"white\",\"plot_bgcolor\":\"#E5ECF6\",\"polar\":{\"angularaxis\":{\"gridcolor\":\"white\",\"linecolor\":\"white\",\"ticks\":\"\"},\"bgcolor\":\"#E5ECF6\",\"radialaxis\":{\"gridcolor\":\"white\",\"linecolor\":\"white\",\"ticks\":\"\"}},\"scene\":{\"xaxis\":{\"backgroundcolor\":\"#E5ECF6\",\"gridcolor\":\"white\",\"gridwidth\":2,\"linecolor\":\"white\",\"showbackground\":true,\"ticks\":\"\",\"zerolinecolor\":\"white\"},\"yaxis\":{\"backgroundcolor\":\"#E5ECF6\",\"gridcolor\":\"white\",\"gridwidth\":2,\"linecolor\":\"white\",\"showbackground\":true,\"ticks\":\"\",\"zerolinecolor\":\"white\"},\"zaxis\":{\"backgroundcolor\":\"#E5ECF6\",\"gridcolor\":\"white\",\"gridwidth\":2,\"linecolor\":\"white\",\"showbackground\":true,\"ticks\":\"\",\"zerolinecolor\":\"white\"}},\"shapedefaults\":{\"line\":{\"color\":\"#2a3f5f\"}},\"ternary\":{\"aaxis\":{\"gridcolor\":\"white\",\"linecolor\":\"white\",\"ticks\":\"\"},\"baxis\":{\"gridcolor\":\"white\",\"linecolor\":\"white\",\"ticks\":\"\"},\"bgcolor\":\"#E5ECF6\",\"caxis\":{\"gridcolor\":\"white\",\"linecolor\":\"white\",\"ticks\":\"\"}},\"title\":{\"x\":0.05},\"xaxis\":{\"automargin\":true,\"gridcolor\":\"white\",\"linecolor\":\"white\",\"ticks\":\"\",\"title\":{\"standoff\":15},\"zerolinecolor\":\"white\",\"zerolinewidth\":2},\"yaxis\":{\"automargin\":true,\"gridcolor\":\"white\",\"linecolor\":\"white\",\"ticks\":\"\",\"title\":{\"standoff\":15},\"zerolinecolor\":\"white\",\"zerolinewidth\":2}}},\"yaxis\":{\"showgrid\":false,\"showline\":true,\"linecolor\":\"rgb(0,0,0)\",\"title\":{\"text\":\"USD\"}},\"xaxis\":{\"showgrid\":false,\"showline\":true,\"linecolor\":\"rgb(0,0,0)\",\"title\":{\"text\":\"YEAR\"}},\"title\":{\"text\":\"TOTAL BOX OFFICE AND INFLATION EACH YEAR\"},\"paper_bgcolor\":\"rgb(255,255,255)\",\"plot_bgcolor\":\"rgb(255,255,255)\",\"hovermode\":\"x unified\",\"annotations\":[{\"text\":\"Highest TOTAL INFLATION BOX OFFICE\",\"x\":2002.0,\"y\":14433929789},{\"text\":\"Highest TOTAL BOX OFFICE\",\"x\":2018.0,\"y\":11948096650}]},                        {\"responsive\": true}                    ).then(function(){\n",
              "                            \n",
              "var gd = document.getElementById('6a2aed83-2426-4ece-8a1f-57b9177b3f1e');\n",
              "var x = new MutationObserver(function (mutations, observer) {{\n",
              "        var display = window.getComputedStyle(gd).display;\n",
              "        if (!display || display === 'none') {{\n",
              "            console.log([gd, 'removed!']);\n",
              "            Plotly.purge(gd);\n",
              "            observer.disconnect();\n",
              "        }}\n",
              "}});\n",
              "\n",
              "// Listen for the removal of the full notebook cells\n",
              "var notebookContainer = gd.closest('#notebook-container');\n",
              "if (notebookContainer) {{\n",
              "    x.observe(notebookContainer, {childList: true});\n",
              "}}\n",
              "\n",
              "// Listen for the clearing of the current output cell\n",
              "var outputEl = gd.closest('.output');\n",
              "if (outputEl) {{\n",
              "    x.observe(outputEl, {childList: true});\n",
              "}}\n",
              "\n",
              "                        })                };                            </script>        </div>\n",
              "</body>\n",
              "</html>"
            ]
          },
          "metadata": {}
        }
      ]
    },
    {
      "cell_type": "markdown",
      "source": [
        "From the graph we can see that Highest total iflation box office happened in 2002,  however highest total box office was observed in 2018."
      ],
      "metadata": {
        "id": "qTroPUSQFDRM"
      }
    },
    {
      "cell_type": "markdown",
      "source": [
        "Now we can analyze the correlation between Ticket Price and other variables including 'TICKETS SOLD', 'TOTAL BOX OFFICE' and 'TOTAL BOX OFFICE ADJUSTED INFLATION'"
      ],
      "metadata": {
        "id": "zaWr0-4-HsNo"
      }
    },
    {
      "cell_type": "code",
      "source": [
        "#Correlation matrix\n",
        "cormat=AnnualTicketSales.corr()\n",
        "round(cormat,2)"
      ],
      "metadata": {
        "colab": {
          "base_uri": "https://localhost:8080/",
          "height": 206
        },
        "id": "ilciW2sBIeI6",
        "outputId": "de1bb342-3b49-43dc-f3f9-3646948859b2"
      },
      "execution_count": null,
      "outputs": [
        {
          "output_type": "execute_result",
          "data": {
            "text/html": [
              "\n",
              "  <div id=\"df-1ca14171-03c6-4368-b1e4-c50c4bcf523f\">\n",
              "    <div class=\"colab-df-container\">\n",
              "      <div>\n",
              "<style scoped>\n",
              "    .dataframe tbody tr th:only-of-type {\n",
              "        vertical-align: middle;\n",
              "    }\n",
              "\n",
              "    .dataframe tbody tr th {\n",
              "        vertical-align: top;\n",
              "    }\n",
              "\n",
              "    .dataframe thead th {\n",
              "        text-align: right;\n",
              "    }\n",
              "</style>\n",
              "<table border=\"1\" class=\"dataframe\">\n",
              "  <thead>\n",
              "    <tr style=\"text-align: right;\">\n",
              "      <th></th>\n",
              "      <th>YEAR</th>\n",
              "      <th>TICKETS SOLD</th>\n",
              "      <th>TOTAL BOX OFFICE</th>\n",
              "      <th>TOTAL INFLATION ADJUSTED BOX OFFICE</th>\n",
              "      <th>AVERAGE TICKET PRICE</th>\n",
              "    </tr>\n",
              "  </thead>\n",
              "  <tbody>\n",
              "    <tr>\n",
              "      <th>YEAR</th>\n",
              "      <td>1.00</td>\n",
              "      <td>-0.55</td>\n",
              "      <td>0.30</td>\n",
              "      <td>-0.55</td>\n",
              "      <td>0.99</td>\n",
              "    </tr>\n",
              "    <tr>\n",
              "      <th>TICKETS SOLD</th>\n",
              "      <td>-0.55</td>\n",
              "      <td>1.00</td>\n",
              "      <td>0.62</td>\n",
              "      <td>1.00</td>\n",
              "      <td>-0.48</td>\n",
              "    </tr>\n",
              "    <tr>\n",
              "      <th>TOTAL BOX OFFICE</th>\n",
              "      <td>0.30</td>\n",
              "      <td>0.62</td>\n",
              "      <td>1.00</td>\n",
              "      <td>0.62</td>\n",
              "      <td>0.39</td>\n",
              "    </tr>\n",
              "    <tr>\n",
              "      <th>TOTAL INFLATION ADJUSTED BOX OFFICE</th>\n",
              "      <td>-0.55</td>\n",
              "      <td>1.00</td>\n",
              "      <td>0.62</td>\n",
              "      <td>1.00</td>\n",
              "      <td>-0.48</td>\n",
              "    </tr>\n",
              "    <tr>\n",
              "      <th>AVERAGE TICKET PRICE</th>\n",
              "      <td>0.99</td>\n",
              "      <td>-0.48</td>\n",
              "      <td>0.39</td>\n",
              "      <td>-0.48</td>\n",
              "      <td>1.00</td>\n",
              "    </tr>\n",
              "  </tbody>\n",
              "</table>\n",
              "</div>\n",
              "      <button class=\"colab-df-convert\" onclick=\"convertToInteractive('df-1ca14171-03c6-4368-b1e4-c50c4bcf523f')\"\n",
              "              title=\"Convert this dataframe to an interactive table.\"\n",
              "              style=\"display:none;\">\n",
              "        \n",
              "  <svg xmlns=\"http://www.w3.org/2000/svg\" height=\"24px\"viewBox=\"0 0 24 24\"\n",
              "       width=\"24px\">\n",
              "    <path d=\"M0 0h24v24H0V0z\" fill=\"none\"/>\n",
              "    <path d=\"M18.56 5.44l.94 2.06.94-2.06 2.06-.94-2.06-.94-.94-2.06-.94 2.06-2.06.94zm-11 1L8.5 8.5l.94-2.06 2.06-.94-2.06-.94L8.5 2.5l-.94 2.06-2.06.94zm10 10l.94 2.06.94-2.06 2.06-.94-2.06-.94-.94-2.06-.94 2.06-2.06.94z\"/><path d=\"M17.41 7.96l-1.37-1.37c-.4-.4-.92-.59-1.43-.59-.52 0-1.04.2-1.43.59L10.3 9.45l-7.72 7.72c-.78.78-.78 2.05 0 2.83L4 21.41c.39.39.9.59 1.41.59.51 0 1.02-.2 1.41-.59l7.78-7.78 2.81-2.81c.8-.78.8-2.07 0-2.86zM5.41 20L4 18.59l7.72-7.72 1.47 1.35L5.41 20z\"/>\n",
              "  </svg>\n",
              "      </button>\n",
              "      \n",
              "  <style>\n",
              "    .colab-df-container {\n",
              "      display:flex;\n",
              "      flex-wrap:wrap;\n",
              "      gap: 12px;\n",
              "    }\n",
              "\n",
              "    .colab-df-convert {\n",
              "      background-color: #E8F0FE;\n",
              "      border: none;\n",
              "      border-radius: 50%;\n",
              "      cursor: pointer;\n",
              "      display: none;\n",
              "      fill: #1967D2;\n",
              "      height: 32px;\n",
              "      padding: 0 0 0 0;\n",
              "      width: 32px;\n",
              "    }\n",
              "\n",
              "    .colab-df-convert:hover {\n",
              "      background-color: #E2EBFA;\n",
              "      box-shadow: 0px 1px 2px rgba(60, 64, 67, 0.3), 0px 1px 3px 1px rgba(60, 64, 67, 0.15);\n",
              "      fill: #174EA6;\n",
              "    }\n",
              "\n",
              "    [theme=dark] .colab-df-convert {\n",
              "      background-color: #3B4455;\n",
              "      fill: #D2E3FC;\n",
              "    }\n",
              "\n",
              "    [theme=dark] .colab-df-convert:hover {\n",
              "      background-color: #434B5C;\n",
              "      box-shadow: 0px 1px 3px 1px rgba(0, 0, 0, 0.15);\n",
              "      filter: drop-shadow(0px 1px 2px rgba(0, 0, 0, 0.3));\n",
              "      fill: #FFFFFF;\n",
              "    }\n",
              "  </style>\n",
              "\n",
              "      <script>\n",
              "        const buttonEl =\n",
              "          document.querySelector('#df-1ca14171-03c6-4368-b1e4-c50c4bcf523f button.colab-df-convert');\n",
              "        buttonEl.style.display =\n",
              "          google.colab.kernel.accessAllowed ? 'block' : 'none';\n",
              "\n",
              "        async function convertToInteractive(key) {\n",
              "          const element = document.querySelector('#df-1ca14171-03c6-4368-b1e4-c50c4bcf523f');\n",
              "          const dataTable =\n",
              "            await google.colab.kernel.invokeFunction('convertToInteractive',\n",
              "                                                     [key], {});\n",
              "          if (!dataTable) return;\n",
              "\n",
              "          const docLinkHtml = 'Like what you see? Visit the ' +\n",
              "            '<a target=\"_blank\" href=https://colab.research.google.com/notebooks/data_table.ipynb>data table notebook</a>'\n",
              "            + ' to learn more about interactive tables.';\n",
              "          element.innerHTML = '';\n",
              "          dataTable['output_type'] = 'display_data';\n",
              "          await google.colab.output.renderOutput(dataTable, element);\n",
              "          const docLink = document.createElement('div');\n",
              "          docLink.innerHTML = docLinkHtml;\n",
              "          element.appendChild(docLink);\n",
              "        }\n",
              "      </script>\n",
              "    </div>\n",
              "  </div>\n",
              "  "
            ],
            "text/plain": [
              "                                     YEAR  ...  AVERAGE TICKET PRICE\n",
              "YEAR                                 1.00  ...                  0.99\n",
              "TICKETS SOLD                        -0.55  ...                 -0.48\n",
              "TOTAL BOX OFFICE                     0.30  ...                  0.39\n",
              "TOTAL INFLATION ADJUSTED BOX OFFICE -0.55  ...                 -0.48\n",
              "AVERAGE TICKET PRICE                 0.99  ...                  1.00\n",
              "\n",
              "[5 rows x 5 columns]"
            ]
          },
          "metadata": {},
          "execution_count": 112
        }
      ]
    },
    {
      "cell_type": "markdown",
      "source": [
        "From the values we can see that there the correlation between Average Ticket Price and other value are not that strong. Let's plot it!"
      ],
      "metadata": {
        "id": "u7CiDQMRJhPj"
      }
    },
    {
      "cell_type": "code",
      "source": [
        "# plotting the correlation matrix \n",
        "sns.heatmap(cormat)"
      ],
      "metadata": {
        "colab": {
          "base_uri": "https://localhost:8080/",
          "height": 479
        },
        "id": "4HtsfSqhKNi6",
        "outputId": "9bfffa41-8991-4ffe-9788-c73474788d0b"
      },
      "execution_count": null,
      "outputs": [
        {
          "output_type": "execute_result",
          "data": {
            "text/plain": [
              "<matplotlib.axes._subplots.AxesSubplot at 0x7f2a174faa10>"
            ]
          },
          "metadata": {},
          "execution_count": 119
        },
        {
          "output_type": "display_data",
          "data": {
            "image/png": "[encoded data removed]",
            "text/plain": [
              "<Figure size 432x288 with 2 Axes>"
            ]
          },
          "metadata": {
            "needs_background": "light"
          }
        }
      ]
    },
    {
      "cell_type": "markdown",
      "source": [
        "From this correlation graph we can observe that there is actually correlation. Now let's observe it in the plots."
      ],
      "metadata": {
        "id": "NZW2VT0ZK8fV"
      }
    },
    {
      "cell_type": "code",
      "source": [
        "#plotting AVERAGE TICKET PRICE AND other variables in subplots to observe the correlation\n",
        "\n",
        "plt_1=plt.figure(figsize=[15,5])\n",
        "#plot 1\n",
        "plt.subplot(1,3,1)\n",
        "plt.scatter(y=AnnualTicketSales['AVERAGE TICKET PRICE'], x=AnnualTicketSales['TICKETS SOLD'])\n",
        "plt.ylabel('AVERAGE TICKET PRICE')\n",
        "plt.xlabel('TICKETS SOLD')\n",
        "\n",
        "#plot 2\n",
        "plt.subplot(1,3,2)\n",
        "plt.scatter(y=AnnualTicketSales['AVERAGE TICKET PRICE'], x=AnnualTicketSales['TOTAL BOX OFFICE'])\n",
        "plt.ylabel('AVERAGE TICKET PRICE')\n",
        "plt.xlabel('TOTAL BOX OFFICE')\n",
        "\n",
        "#plot 3\n",
        "plt.subplot(1,3,3)\n",
        "plt.scatter(y=AnnualTicketSales['AVERAGE TICKET PRICE'], x=AnnualTicketSales['TOTAL INFLATION ADJUSTED BOX OFFICE'])\n",
        "plt.ylabel('AVERAGE TICKET PRICE')\n",
        "plt.xlabel('TOTAL INFLATION ADJUSTED BOX OFFICE')\n"
      ],
      "metadata": {
        "colab": {
          "base_uri": "https://localhost:8080/",
          "height": 351
        },
        "id": "6jsPxBbgLpvB",
        "outputId": "9774c2cd-8f0e-4dcc-d68f-d89adb18e050"
      },
      "execution_count": null,
      "outputs": [
        {
          "output_type": "execute_result",
          "data": {
            "text/plain": [
              "Text(0.5, 0, 'TOTAL INFLATION ADJUSTED BOX OFFICE')"
            ]
          },
          "metadata": {},
          "execution_count": 135
        },
        {
          "output_type": "display_data",
          "data": {
            "image/png": "[encoded data removed]",
            "text/plain": [
              "<Figure size 1080x360 with 3 Axes>"
            ]
          },
          "metadata": {
            "needs_background": "light"
          }
        }
      ]
    },
    {
      "cell_type": "markdown",
      "source": [
        "If we remove the outliers we can see there is positive correlation on Total Box Office and somehow negative correlation with Tickets Sold and Inflation, but it is not strong. That is all from Annula Ticket Sales data."
      ],
      "metadata": {
        "id": "Dv36fYfQLsjA"
      }
    },
    {
      "cell_type": "markdown",
      "source": [
        "### Highest Grossers "
      ],
      "metadata": {
        "id": "71g8T-YpO9er"
      }
    },
    {
      "cell_type": "code",
      "source": [
        "HighestGrossers.head()"
      ],
      "metadata": {
        "id": "8a095hccPAox",
        "colab": {
          "base_uri": "https://localhost:8080/",
          "height": 206
        },
        "outputId": "53369b50-952e-4658-8438-de7a270f9829"
      },
      "execution_count": 5,
      "outputs": [
        {
          "output_type": "execute_result",
          "data": {
            "text/html": [
              "\n",
              "  <div id=\"df-83ec1900-347c-456e-8342-5464986386b9\">\n",
              "    <div class=\"colab-df-container\">\n",
              "      <div>\n",
              "<style scoped>\n",
              "    .dataframe tbody tr th:only-of-type {\n",
              "        vertical-align: middle;\n",
              "    }\n",
              "\n",
              "    .dataframe tbody tr th {\n",
              "        vertical-align: top;\n",
              "    }\n",
              "\n",
              "    .dataframe thead th {\n",
              "        text-align: right;\n",
              "    }\n",
              "</style>\n",
              "<table border=\"1\" class=\"dataframe\">\n",
              "  <thead>\n",
              "    <tr style=\"text-align: right;\">\n",
              "      <th></th>\n",
              "      <th>YEAR</th>\n",
              "      <th>MOVIE</th>\n",
              "      <th>GENRE</th>\n",
              "      <th>MPAA RATING</th>\n",
              "      <th>DISTRIBUTOR</th>\n",
              "      <th>TOTAL FOR YEAR</th>\n",
              "      <th>TOTAL IN 2019 DOLLARS</th>\n",
              "      <th>TICKETS SOLD</th>\n",
              "    </tr>\n",
              "  </thead>\n",
              "  <tbody>\n",
              "    <tr>\n",
              "      <th>0</th>\n",
              "      <td>1995</td>\n",
              "      <td>Batman Forever</td>\n",
              "      <td>Drama</td>\n",
              "      <td>PG-13</td>\n",
              "      <td>Warner Bros.</td>\n",
              "      <td>$184,031,112</td>\n",
              "      <td>$387,522,978</td>\n",
              "      <td>4,23,06,002</td>\n",
              "    </tr>\n",
              "    <tr>\n",
              "      <th>1</th>\n",
              "      <td>1996</td>\n",
              "      <td>Independence Day</td>\n",
              "      <td>Adventure</td>\n",
              "      <td>PG-13</td>\n",
              "      <td>20th Century Fox</td>\n",
              "      <td>$306,169,255</td>\n",
              "      <td>$634,504,608</td>\n",
              "      <td>6,92,69,062</td>\n",
              "    </tr>\n",
              "    <tr>\n",
              "      <th>2</th>\n",
              "      <td>1997</td>\n",
              "      <td>Men in Black</td>\n",
              "      <td>Adventure</td>\n",
              "      <td>PG-13</td>\n",
              "      <td>Sony Pictures</td>\n",
              "      <td>$250,650,052</td>\n",
              "      <td>$500,207,943</td>\n",
              "      <td>5,46,07,854</td>\n",
              "    </tr>\n",
              "    <tr>\n",
              "      <th>3</th>\n",
              "      <td>1998</td>\n",
              "      <td>Titanic</td>\n",
              "      <td>Adventure</td>\n",
              "      <td>PG-13</td>\n",
              "      <td>Paramount Pictures</td>\n",
              "      <td>$443,319,081</td>\n",
              "      <td>$865,842,808</td>\n",
              "      <td>9,45,24,324</td>\n",
              "    </tr>\n",
              "    <tr>\n",
              "      <th>4</th>\n",
              "      <td>1999</td>\n",
              "      <td>Star Wars Ep. I: The Phantom Menace</td>\n",
              "      <td>Adventure</td>\n",
              "      <td>PG</td>\n",
              "      <td>20th Century Fox</td>\n",
              "      <td>$430,443,350</td>\n",
              "      <td>$776,153,749</td>\n",
              "      <td>8,47,32,942</td>\n",
              "    </tr>\n",
              "  </tbody>\n",
              "</table>\n",
              "</div>\n",
              "      <button class=\"colab-df-convert\" onclick=\"convertToInteractive('df-83ec1900-347c-456e-8342-5464986386b9')\"\n",
              "              title=\"Convert this dataframe to an interactive table.\"\n",
              "              style=\"display:none;\">\n",
              "        \n",
              "  <svg xmlns=\"http://www.w3.org/2000/svg\" height=\"24px\"viewBox=\"0 0 24 24\"\n",
              "       width=\"24px\">\n",
              "    <path d=\"M0 0h24v24H0V0z\" fill=\"none\"/>\n",
              "    <path d=\"M18.56 5.44l.94 2.06.94-2.06 2.06-.94-2.06-.94-.94-2.06-.94 2.06-2.06.94zm-11 1L8.5 8.5l.94-2.06 2.06-.94-2.06-.94L8.5 2.5l-.94 2.06-2.06.94zm10 10l.94 2.06.94-2.06 2.06-.94-2.06-.94-.94-2.06-.94 2.06-2.06.94z\"/><path d=\"M17.41 7.96l-1.37-1.37c-.4-.4-.92-.59-1.43-.59-.52 0-1.04.2-1.43.59L10.3 9.45l-7.72 7.72c-.78.78-.78 2.05 0 2.83L4 21.41c.39.39.9.59 1.41.59.51 0 1.02-.2 1.41-.59l7.78-7.78 2.81-2.81c.8-.78.8-2.07 0-2.86zM5.41 20L4 18.59l7.72-7.72 1.47 1.35L5.41 20z\"/>\n",
              "  </svg>\n",
              "      </button>\n",
              "      \n",
              "  <style>\n",
              "    .colab-df-container {\n",
              "      display:flex;\n",
              "      flex-wrap:wrap;\n",
              "      gap: 12px;\n",
              "    }\n",
              "\n",
              "    .colab-df-convert {\n",
              "      background-color: #E8F0FE;\n",
              "      border: none;\n",
              "      border-radius: 50%;\n",
              "      cursor: pointer;\n",
              "      display: none;\n",
              "      fill: #1967D2;\n",
              "      height: 32px;\n",
              "      padding: 0 0 0 0;\n",
              "      width: 32px;\n",
              "    }\n",
              "\n",
              "    .colab-df-convert:hover {\n",
              "      background-color: #E2EBFA;\n",
              "      box-shadow: 0px 1px 2px rgba(60, 64, 67, 0.3), 0px 1px 3px 1px rgba(60, 64, 67, 0.15);\n",
              "      fill: #174EA6;\n",
              "    }\n",
              "\n",
              "    [theme=dark] .colab-df-convert {\n",
              "      background-color: #3B4455;\n",
              "      fill: #D2E3FC;\n",
              "    }\n",
              "\n",
              "    [theme=dark] .colab-df-convert:hover {\n",
              "      background-color: #434B5C;\n",
              "      box-shadow: 0px 1px 3px 1px rgba(0, 0, 0, 0.15);\n",
              "      filter: drop-shadow(0px 1px 2px rgba(0, 0, 0, 0.3));\n",
              "      fill: #FFFFFF;\n",
              "    }\n",
              "  </style>\n",
              "\n",
              "      <script>\n",
              "        const buttonEl =\n",
              "          document.querySelector('#df-83ec1900-347c-456e-8342-5464986386b9 button.colab-df-convert');\n",
              "        buttonEl.style.display =\n",
              "          google.colab.kernel.accessAllowed ? 'block' : 'none';\n",
              "\n",
              "        async function convertToInteractive(key) {\n",
              "          const element = document.querySelector('#df-83ec1900-347c-456e-8342-5464986386b9');\n",
              "          const dataTable =\n",
              "            await google.colab.kernel.invokeFunction('convertToInteractive',\n",
              "                                                     [key], {});\n",
              "          if (!dataTable) return;\n",
              "\n",
              "          const docLinkHtml = 'Like what you see? Visit the ' +\n",
              "            '<a target=\"_blank\" href=https://colab.research.google.com/notebooks/data_table.ipynb>data table notebook</a>'\n",
              "            + ' to learn more about interactive tables.';\n",
              "          element.innerHTML = '';\n",
              "          dataTable['output_type'] = 'display_data';\n",
              "          await google.colab.output.renderOutput(dataTable, element);\n",
              "          const docLink = document.createElement('div');\n",
              "          docLink.innerHTML = docLinkHtml;\n",
              "          element.appendChild(docLink);\n",
              "        }\n",
              "      </script>\n",
              "    </div>\n",
              "  </div>\n",
              "  "
            ],
            "text/plain": [
              "   YEAR                                MOVIE  ... TOTAL IN 2019 DOLLARS TICKETS SOLD\n",
              "0  1995                       Batman Forever  ...          $387,522,978  4,23,06,002\n",
              "1  1996                     Independence Day  ...          $634,504,608  6,92,69,062\n",
              "2  1997                         Men in Black  ...          $500,207,943  5,46,07,854\n",
              "3  1998                              Titanic  ...          $865,842,808  9,45,24,324\n",
              "4  1999  Star Wars Ep. I: The Phantom Menace  ...          $776,153,749  8,47,32,942\n",
              "\n",
              "[5 rows x 8 columns]"
            ]
          },
          "metadata": {},
          "execution_count": 5
        }
      ]
    },
    {
      "cell_type": "code",
      "source": [
        "## Data cleaning  for TOTAL FOR YEAR, TOTAL IN 2019 DOLLARS AND TICKETS SOLD columns\n",
        "#Converting TICKETS SOLD from object to int\n",
        "HighestGrossers['TICKETS SOLD']=HighestGrossers['TICKETS SOLD'].replace(',','', regex=True)\n",
        "HighestGrossers['TICKETS SOLD']=pd.to_numeric(HighestGrossers['TICKETS SOLD'])\n",
        "\n",
        "#Converting TOTAL FOR YEAR from object to int\n",
        "HighestGrossers['TOTAL FOR YEAR']=HighestGrossers['TOTAL FOR YEAR'].replace(',','', regex=True)\n",
        "HighestGrossers['TOTAL FOR YEAR']=HighestGrossers['TOTAL FOR YEAR'].str.replace('$','', regex=True)\n",
        "HighestGrossers['TOTAL FOR YEAR']=pd.to_numeric(HighestGrossers['TOTAL FOR YEAR'])\n",
        "\n",
        "#Converting TOTAL IN 2019 DOLLARS from object to int\n",
        "HighestGrossers['TOTAL IN 2019 DOLLARS']=HighestGrossers['TOTAL IN 2019 DOLLARS'].replace(',','', regex=True)\n",
        "HighestGrossers['TOTAL IN 2019 DOLLARS']=HighestGrossers['TOTAL IN 2019 DOLLARS'].str.replace('$','', regex=True)\n",
        "HighestGrossers['TOTAL IN 2019 DOLLARS']=pd.to_numeric(HighestGrossers['TOTAL IN 2019 DOLLARS'])\n"
      ],
      "metadata": {
        "id": "FbuQMsqbaljC"
      },
      "execution_count": 6,
      "outputs": []
    },
    {
      "cell_type": "code",
      "source": [
        "HighestGrossers"
      ],
      "metadata": {
        "colab": {
          "base_uri": "https://localhost:8080/",
          "height": 895
        },
        "id": "6Lx7E3PdePzT",
        "outputId": "3227c684-4c4f-445c-c804-37cbe197bbb1"
      },
      "execution_count": 12,
      "outputs": [
        {
          "output_type": "execute_result",
          "data": {
            "text/html": [
              "\n",
              "  <div id=\"df-4caa5c97-f932-42bc-9167-f75a1762df8e\">\n",
              "    <div class=\"colab-df-container\">\n",
              "      <div>\n",
              "<style scoped>\n",
              "    .dataframe tbody tr th:only-of-type {\n",
              "        vertical-align: middle;\n",
              "    }\n",
              "\n",
              "    .dataframe tbody tr th {\n",
              "        vertical-align: top;\n",
              "    }\n",
              "\n",
              "    .dataframe thead th {\n",
              "        text-align: right;\n",
              "    }\n",
              "</style>\n",
              "<table border=\"1\" class=\"dataframe\">\n",
              "  <thead>\n",
              "    <tr style=\"text-align: right;\">\n",
              "      <th></th>\n",
              "      <th>YEAR</th>\n",
              "      <th>MOVIE</th>\n",
              "      <th>GENRE</th>\n",
              "      <th>MPAA RATING</th>\n",
              "      <th>DISTRIBUTOR</th>\n",
              "      <th>TOTAL FOR YEAR</th>\n",
              "      <th>TOTAL IN 2019 DOLLARS</th>\n",
              "      <th>TICKETS SOLD</th>\n",
              "    </tr>\n",
              "  </thead>\n",
              "  <tbody>\n",
              "    <tr>\n",
              "      <th>0</th>\n",
              "      <td>1995</td>\n",
              "      <td>Batman Forever</td>\n",
              "      <td>Drama</td>\n",
              "      <td>PG-13</td>\n",
              "      <td>Warner Bros.</td>\n",
              "      <td>184031112</td>\n",
              "      <td>387522978</td>\n",
              "      <td>42306002</td>\n",
              "    </tr>\n",
              "    <tr>\n",
              "      <th>1</th>\n",
              "      <td>1996</td>\n",
              "      <td>Independence Day</td>\n",
              "      <td>Adventure</td>\n",
              "      <td>PG-13</td>\n",
              "      <td>20th Century Fox</td>\n",
              "      <td>306169255</td>\n",
              "      <td>634504608</td>\n",
              "      <td>69269062</td>\n",
              "    </tr>\n",
              "    <tr>\n",
              "      <th>2</th>\n",
              "      <td>1997</td>\n",
              "      <td>Men in Black</td>\n",
              "      <td>Adventure</td>\n",
              "      <td>PG-13</td>\n",
              "      <td>Sony Pictures</td>\n",
              "      <td>250650052</td>\n",
              "      <td>500207943</td>\n",
              "      <td>54607854</td>\n",
              "    </tr>\n",
              "    <tr>\n",
              "      <th>3</th>\n",
              "      <td>1998</td>\n",
              "      <td>Titanic</td>\n",
              "      <td>Adventure</td>\n",
              "      <td>PG-13</td>\n",
              "      <td>Paramount Pictures</td>\n",
              "      <td>443319081</td>\n",
              "      <td>865842808</td>\n",
              "      <td>94524324</td>\n",
              "    </tr>\n",
              "    <tr>\n",
              "      <th>4</th>\n",
              "      <td>1999</td>\n",
              "      <td>Star Wars Ep. I: The Phantom Menace</td>\n",
              "      <td>Adventure</td>\n",
              "      <td>PG</td>\n",
              "      <td>20th Century Fox</td>\n",
              "      <td>430443350</td>\n",
              "      <td>776153749</td>\n",
              "      <td>84732942</td>\n",
              "    </tr>\n",
              "    <tr>\n",
              "      <th>5</th>\n",
              "      <td>2000</td>\n",
              "      <td>How the Grinch Stole Christmas</td>\n",
              "      <td>Adventure</td>\n",
              "      <td>PG</td>\n",
              "      <td>Universal</td>\n",
              "      <td>253367455</td>\n",
              "      <td>430583644</td>\n",
              "      <td>47006948</td>\n",
              "    </tr>\n",
              "    <tr>\n",
              "      <th>6</th>\n",
              "      <td>2001</td>\n",
              "      <td>Harry Potter and the Sorcerer’s Stone</td>\n",
              "      <td>Adventure</td>\n",
              "      <td>PG</td>\n",
              "      <td>Warner Bros.</td>\n",
              "      <td>300404434</td>\n",
              "      <td>486166890</td>\n",
              "      <td>53074988</td>\n",
              "    </tr>\n",
              "    <tr>\n",
              "      <th>7</th>\n",
              "      <td>2002</td>\n",
              "      <td>Spider-Man</td>\n",
              "      <td>Adventure</td>\n",
              "      <td>PG-13</td>\n",
              "      <td>Sony Pictures</td>\n",
              "      <td>403706375</td>\n",
              "      <td>636480273</td>\n",
              "      <td>69484746</td>\n",
              "    </tr>\n",
              "    <tr>\n",
              "      <th>8</th>\n",
              "      <td>2003</td>\n",
              "      <td>Finding Nemo</td>\n",
              "      <td>Adventure</td>\n",
              "      <td>G</td>\n",
              "      <td>Walt Disney</td>\n",
              "      <td>339714367</td>\n",
              "      <td>516050346</td>\n",
              "      <td>56337374</td>\n",
              "    </tr>\n",
              "    <tr>\n",
              "      <th>9</th>\n",
              "      <td>2004</td>\n",
              "      <td>Shrek 2</td>\n",
              "      <td>Adventure</td>\n",
              "      <td>PG</td>\n",
              "      <td>Dreamworks SKG</td>\n",
              "      <td>441226247</td>\n",
              "      <td>650826473</td>\n",
              "      <td>71050925</td>\n",
              "    </tr>\n",
              "    <tr>\n",
              "      <th>10</th>\n",
              "      <td>2005</td>\n",
              "      <td>Star Wars Ep. III: Revenge of the Sith</td>\n",
              "      <td>Action</td>\n",
              "      <td>PG-13</td>\n",
              "      <td>20th Century Fox</td>\n",
              "      <td>380270577</td>\n",
              "      <td>543413171</td>\n",
              "      <td>59324582</td>\n",
              "    </tr>\n",
              "    <tr>\n",
              "      <th>11</th>\n",
              "      <td>2006</td>\n",
              "      <td>Pirates of the Caribbean: Dead Man’s Chest</td>\n",
              "      <td>Action</td>\n",
              "      <td>PG-13</td>\n",
              "      <td>Walt Disney</td>\n",
              "      <td>423315812</td>\n",
              "      <td>591995851</td>\n",
              "      <td>64628368</td>\n",
              "    </tr>\n",
              "    <tr>\n",
              "      <th>12</th>\n",
              "      <td>2007</td>\n",
              "      <td>Spider-Man 3</td>\n",
              "      <td>Adventure</td>\n",
              "      <td>PG-13</td>\n",
              "      <td>Sony Pictures</td>\n",
              "      <td>336530303</td>\n",
              "      <td>448054878</td>\n",
              "      <td>48914288</td>\n",
              "    </tr>\n",
              "    <tr>\n",
              "      <th>13</th>\n",
              "      <td>2008</td>\n",
              "      <td>The Dark Knight</td>\n",
              "      <td>Adventure</td>\n",
              "      <td>PG-13</td>\n",
              "      <td>Warner Bros.</td>\n",
              "      <td>531001578</td>\n",
              "      <td>677433772</td>\n",
              "      <td>73955652</td>\n",
              "    </tr>\n",
              "    <tr>\n",
              "      <th>14</th>\n",
              "      <td>2009</td>\n",
              "      <td>Transformers: Revenge of the Fallen</td>\n",
              "      <td>Action</td>\n",
              "      <td>PG-13</td>\n",
              "      <td>Paramount Pictures</td>\n",
              "      <td>402111870</td>\n",
              "      <td>491112631</td>\n",
              "      <td>53614916</td>\n",
              "    </tr>\n",
              "    <tr>\n",
              "      <th>15</th>\n",
              "      <td>2010</td>\n",
              "      <td>Toy Story 3</td>\n",
              "      <td>Action</td>\n",
              "      <td>G</td>\n",
              "      <td>Walt Disney</td>\n",
              "      <td>415004880</td>\n",
              "      <td>481805411</td>\n",
              "      <td>52598844</td>\n",
              "    </tr>\n",
              "    <tr>\n",
              "      <th>16</th>\n",
              "      <td>2011</td>\n",
              "      <td>Harry Potter and the Deathly Hallows: Part II</td>\n",
              "      <td>Action</td>\n",
              "      <td>PG-13</td>\n",
              "      <td>Warner Bros.</td>\n",
              "      <td>381011219</td>\n",
              "      <td>440108798</td>\n",
              "      <td>48046812</td>\n",
              "    </tr>\n",
              "    <tr>\n",
              "      <th>17</th>\n",
              "      <td>2012</td>\n",
              "      <td>The Avengers</td>\n",
              "      <td>Adventure</td>\n",
              "      <td>PG-13</td>\n",
              "      <td>Walt Disney</td>\n",
              "      <td>623357910</td>\n",
              "      <td>717331462</td>\n",
              "      <td>78311295</td>\n",
              "    </tr>\n",
              "    <tr>\n",
              "      <th>18</th>\n",
              "      <td>2013</td>\n",
              "      <td>Iron Man 3</td>\n",
              "      <td>Adventure</td>\n",
              "      <td>PG-13</td>\n",
              "      <td>Walt Disney</td>\n",
              "      <td>408992272</td>\n",
              "      <td>460808016</td>\n",
              "      <td>50306552</td>\n",
              "    </tr>\n",
              "    <tr>\n",
              "      <th>19</th>\n",
              "      <td>2014</td>\n",
              "      <td>Guardians of the Galaxy</td>\n",
              "      <td>Adventure</td>\n",
              "      <td>PG-13</td>\n",
              "      <td>Walt Disney</td>\n",
              "      <td>333055258</td>\n",
              "      <td>373413235</td>\n",
              "      <td>40765637</td>\n",
              "    </tr>\n",
              "    <tr>\n",
              "      <th>20</th>\n",
              "      <td>2015</td>\n",
              "      <td>Star Wars Ep. VII: The Force Awakens</td>\n",
              "      <td>Action</td>\n",
              "      <td>PG-13</td>\n",
              "      <td>Walt Disney</td>\n",
              "      <td>742208942</td>\n",
              "      <td>806480887</td>\n",
              "      <td>88043765</td>\n",
              "    </tr>\n",
              "    <tr>\n",
              "      <th>21</th>\n",
              "      <td>2016</td>\n",
              "      <td>Finding Dory</td>\n",
              "      <td>Action</td>\n",
              "      <td>PG</td>\n",
              "      <td>Walt Disney</td>\n",
              "      <td>486295561</td>\n",
              "      <td>514967322</td>\n",
              "      <td>56219140</td>\n",
              "    </tr>\n",
              "    <tr>\n",
              "      <th>22</th>\n",
              "      <td>2017</td>\n",
              "      <td>Star Wars Ep. VIII: The Last Jedi</td>\n",
              "      <td>Action</td>\n",
              "      <td>PG-13</td>\n",
              "      <td>Walt Disney</td>\n",
              "      <td>517218368</td>\n",
              "      <td>528173936</td>\n",
              "      <td>57660910</td>\n",
              "    </tr>\n",
              "    <tr>\n",
              "      <th>23</th>\n",
              "      <td>2018</td>\n",
              "      <td>Black Panther</td>\n",
              "      <td>Action</td>\n",
              "      <td>PG-13</td>\n",
              "      <td>Walt Disney</td>\n",
              "      <td>700059566</td>\n",
              "      <td>703901821</td>\n",
              "      <td>76845177</td>\n",
              "    </tr>\n",
              "    <tr>\n",
              "      <th>24</th>\n",
              "      <td>2019</td>\n",
              "      <td>Avengers: Endgame</td>\n",
              "      <td>NaN</td>\n",
              "      <td>PG-13</td>\n",
              "      <td>Walt Disney</td>\n",
              "      <td>858373000</td>\n",
              "      <td>858373002</td>\n",
              "      <td>93708843</td>\n",
              "    </tr>\n",
              "    <tr>\n",
              "      <th>25</th>\n",
              "      <td>2020</td>\n",
              "      <td>Bad Boys For Life</td>\n",
              "      <td>NaN</td>\n",
              "      <td>R</td>\n",
              "      <td>Sony Pictures</td>\n",
              "      <td>204417855</td>\n",
              "      <td>204417848</td>\n",
              "      <td>22316359</td>\n",
              "    </tr>\n",
              "    <tr>\n",
              "      <th>26</th>\n",
              "      <td>2021</td>\n",
              "      <td>Shang-Chi and the Legend of the Ten Rings</td>\n",
              "      <td>NaN</td>\n",
              "      <td>PG-13</td>\n",
              "      <td>Walt Disney</td>\n",
              "      <td>224226704</td>\n",
              "      <td>224226704</td>\n",
              "      <td>24478897</td>\n",
              "    </tr>\n",
              "  </tbody>\n",
              "</table>\n",
              "</div>\n",
              "      <button class=\"colab-df-convert\" onclick=\"convertToInteractive('df-4caa5c97-f932-42bc-9167-f75a1762df8e')\"\n",
              "              title=\"Convert this dataframe to an interactive table.\"\n",
              "              style=\"display:none;\">\n",
              "        \n",
              "  <svg xmlns=\"http://www.w3.org/2000/svg\" height=\"24px\"viewBox=\"0 0 24 24\"\n",
              "       width=\"24px\">\n",
              "    <path d=\"M0 0h24v24H0V0z\" fill=\"none\"/>\n",
              "    <path d=\"M18.56 5.44l.94 2.06.94-2.06 2.06-.94-2.06-.94-.94-2.06-.94 2.06-2.06.94zm-11 1L8.5 8.5l.94-2.06 2.06-.94-2.06-.94L8.5 2.5l-.94 2.06-2.06.94zm10 10l.94 2.06.94-2.06 2.06-.94-2.06-.94-.94-2.06-.94 2.06-2.06.94z\"/><path d=\"M17.41 7.96l-1.37-1.37c-.4-.4-.92-.59-1.43-.59-.52 0-1.04.2-1.43.59L10.3 9.45l-7.72 7.72c-.78.78-.78 2.05 0 2.83L4 21.41c.39.39.9.59 1.41.59.51 0 1.02-.2 1.41-.59l7.78-7.78 2.81-2.81c.8-.78.8-2.07 0-2.86zM5.41 20L4 18.59l7.72-7.72 1.47 1.35L5.41 20z\"/>\n",
              "  </svg>\n",
              "      </button>\n",
              "      \n",
              "  <style>\n",
              "    .colab-df-container {\n",
              "      display:flex;\n",
              "      flex-wrap:wrap;\n",
              "      gap: 12px;\n",
              "    }\n",
              "\n",
              "    .colab-df-convert {\n",
              "      background-color: #E8F0FE;\n",
              "      border: none;\n",
              "      border-radius: 50%;\n",
              "      cursor: pointer;\n",
              "      display: none;\n",
              "      fill: #1967D2;\n",
              "      height: 32px;\n",
              "      padding: 0 0 0 0;\n",
              "      width: 32px;\n",
              "    }\n",
              "\n",
              "    .colab-df-convert:hover {\n",
              "      background-color: #E2EBFA;\n",
              "      box-shadow: 0px 1px 2px rgba(60, 64, 67, 0.3), 0px 1px 3px 1px rgba(60, 64, 67, 0.15);\n",
              "      fill: #174EA6;\n",
              "    }\n",
              "\n",
              "    [theme=dark] .colab-df-convert {\n",
              "      background-color: #3B4455;\n",
              "      fill: #D2E3FC;\n",
              "    }\n",
              "\n",
              "    [theme=dark] .colab-df-convert:hover {\n",
              "      background-color: #434B5C;\n",
              "      box-shadow: 0px 1px 3px 1px rgba(0, 0, 0, 0.15);\n",
              "      filter: drop-shadow(0px 1px 2px rgba(0, 0, 0, 0.3));\n",
              "      fill: #FFFFFF;\n",
              "    }\n",
              "  </style>\n",
              "\n",
              "      <script>\n",
              "        const buttonEl =\n",
              "          document.querySelector('#df-4caa5c97-f932-42bc-9167-f75a1762df8e button.colab-df-convert');\n",
              "        buttonEl.style.display =\n",
              "          google.colab.kernel.accessAllowed ? 'block' : 'none';\n",
              "\n",
              "        async function convertToInteractive(key) {\n",
              "          const element = document.querySelector('#df-4caa5c97-f932-42bc-9167-f75a1762df8e');\n",
              "          const dataTable =\n",
              "            await google.colab.kernel.invokeFunction('convertToInteractive',\n",
              "                                                     [key], {});\n",
              "          if (!dataTable) return;\n",
              "\n",
              "          const docLinkHtml = 'Like what you see? Visit the ' +\n",
              "            '<a target=\"_blank\" href=https://colab.research.google.com/notebooks/data_table.ipynb>data table notebook</a>'\n",
              "            + ' to learn more about interactive tables.';\n",
              "          element.innerHTML = '';\n",
              "          dataTable['output_type'] = 'display_data';\n",
              "          await google.colab.output.renderOutput(dataTable, element);\n",
              "          const docLink = document.createElement('div');\n",
              "          docLink.innerHTML = docLinkHtml;\n",
              "          element.appendChild(docLink);\n",
              "        }\n",
              "      </script>\n",
              "    </div>\n",
              "  </div>\n",
              "  "
            ],
            "text/plain": [
              "    YEAR  ... TICKETS SOLD\n",
              "0   1995  ...     42306002\n",
              "1   1996  ...     69269062\n",
              "2   1997  ...     54607854\n",
              "3   1998  ...     94524324\n",
              "4   1999  ...     84732942\n",
              "5   2000  ...     47006948\n",
              "6   2001  ...     53074988\n",
              "7   2002  ...     69484746\n",
              "8   2003  ...     56337374\n",
              "9   2004  ...     71050925\n",
              "10  2005  ...     59324582\n",
              "11  2006  ...     64628368\n",
              "12  2007  ...     48914288\n",
              "13  2008  ...     73955652\n",
              "14  2009  ...     53614916\n",
              "15  2010  ...     52598844\n",
              "16  2011  ...     48046812\n",
              "17  2012  ...     78311295\n",
              "18  2013  ...     50306552\n",
              "19  2014  ...     40765637\n",
              "20  2015  ...     88043765\n",
              "21  2016  ...     56219140\n",
              "22  2017  ...     57660910\n",
              "23  2018  ...     76845177\n",
              "24  2019  ...     93708843\n",
              "25  2020  ...     22316359\n",
              "26  2021  ...     24478897\n",
              "\n",
              "[27 rows x 8 columns]"
            ]
          },
          "metadata": {},
          "execution_count": 12
        }
      ]
    },
    {
      "cell_type": "code",
      "source": [
        "HighestGrossers.info()"
      ],
      "metadata": {
        "colab": {
          "base_uri": "https://localhost:8080/"
        },
        "id": "iYNS45uQeSp7",
        "outputId": "b209bb72-0cd8-4196-8cc7-764b31c510fb"
      },
      "execution_count": 10,
      "outputs": [
        {
          "output_type": "stream",
          "name": "stdout",
          "text": [
            "<class 'pandas.core.frame.DataFrame'>\n",
            "RangeIndex: 27 entries, 0 to 26\n",
            "Data columns (total 8 columns):\n",
            " #   Column                 Non-Null Count  Dtype \n",
            "---  ------                 --------------  ----- \n",
            " 0   YEAR                   27 non-null     int64 \n",
            " 1   MOVIE                  27 non-null     object\n",
            " 2   GENRE                  24 non-null     object\n",
            " 3   MPAA RATING            27 non-null     object\n",
            " 4   DISTRIBUTOR            27 non-null     object\n",
            " 5   TOTAL FOR YEAR         27 non-null     int64 \n",
            " 6   TOTAL IN 2019 DOLLARS  27 non-null     int64 \n",
            " 7   TICKETS SOLD           27 non-null     int64 \n",
            "dtypes: int64(4), object(4)\n",
            "memory usage: 1.8+ KB\n"
          ]
        }
      ]
    },
    {
      "cell_type": "code",
      "source": [
        "HighestGrossers.isnull().sum()"
      ],
      "metadata": {
        "colab": {
          "base_uri": "https://localhost:8080/"
        },
        "id": "uAxCb34-etyR",
        "outputId": "e7978323-302b-4c1d-ff41-da7af2476c47"
      },
      "execution_count": 11,
      "outputs": [
        {
          "output_type": "execute_result",
          "data": {
            "text/plain": [
              "YEAR                     0\n",
              "MOVIE                    0\n",
              "GENRE                    3\n",
              "MPAA RATING              0\n",
              "DISTRIBUTOR              0\n",
              "TOTAL FOR YEAR           0\n",
              "TOTAL IN 2019 DOLLARS    0\n",
              "TICKETS SOLD             0\n",
              "dtype: int64"
            ]
          },
          "metadata": {},
          "execution_count": 11
        }
      ]
    },
    {
      "cell_type": "markdown",
      "source": [
        "We can see that there are 3 null values in Genre column"
      ],
      "metadata": {
        "id": "lWaP73gAezhQ"
      }
    },
    {
      "cell_type": "code",
      "source": [
        ""
      ],
      "metadata": {
        "id": "iH3TdQhVktsV"
      },
      "execution_count": null,
      "outputs": []
    },
    {
      "cell_type": "code",
      "source": [
        "# Total Ticket Sold vs Distributor\n",
        "total_for_distributor = HighestGrossers.groupby(['DISTRIBUTOR'], as_index=False).sum()\n",
        "\n",
        "plt.pie(total_for_distributor['TICKETS SOLD'], labels=total_for_distributor['DISTRIBUTOR'], )"
      ],
      "metadata": {
        "colab": {
          "base_uri": "https://localhost:8080/",
          "height": 506
        },
        "id": "wn8qeFglfENd",
        "outputId": "6772d6e4-8b06-4487-bf79-94f523d401df"
      },
      "execution_count": 23,
      "outputs": [
        {
          "output_type": "execute_result",
          "data": {
            "text/plain": [
              "([<matplotlib.patches.Wedge at 0x7efc410db3d0>,\n",
              "  <matplotlib.patches.Wedge at 0x7efc410db850>,\n",
              "  <matplotlib.patches.Wedge at 0x7efc410db810>,\n",
              "  <matplotlib.patches.Wedge at 0x7efc41072450>,\n",
              "  <matplotlib.patches.Wedge at 0x7efc41072d50>,\n",
              "  <matplotlib.patches.Wedge at 0x7efc4107f3d0>,\n",
              "  <matplotlib.patches.Wedge at 0x7efc4107f150>],\n",
              " [Text(1.0085614181608689, 0.4390943700360289, '20th Century Fox'),\n",
              "  Text(0.6326739831455762, 0.8998464485959321, 'Dreamworks SKG'),\n",
              "  Text(0.20870863832432257, 1.080018844413748, 'Paramount Pictures'),\n",
              "  Text(-0.49838733337268315, 0.9806171862320516, 'Sony Pictures'),\n",
              "  Text(-0.8861437192638462, 0.6517279407921974, 'Universal'),\n",
              "  Text(-0.700406292360998, -0.8481927997932548, 'Walt Disney'),\n",
              "  Text(1.0051020658417493, -0.4469561916347599, 'Warner Bros.')])"
            ]
          },
          "metadata": {},
          "execution_count": 23
        },
        {
          "output_type": "display_data",
          "data": {
            "image/png": "[encoded data removed]",
            "text/plain": [
              "<Figure size 432x288 with 1 Axes>"
            ]
          },
          "metadata": {}
        }
      ]
    },
    {
      "cell_type": "code",
      "source": [
        ""
      ],
      "metadata": {
        "id": "9Tf_RUWDibUS"
      },
      "execution_count": null,
      "outputs": []
    }
  ]
}