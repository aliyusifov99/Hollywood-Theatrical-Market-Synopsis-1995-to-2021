{
  "nbformat": 4,
  "nbformat_minor": 0,
  "metadata": {
    "colab": {
      "name": "Hollywood Theatrical Market Synopsis 1995 to 2021.ipynb",
      "provenance": [],
      "authorship_tag": "ABX9TyPSdqqFU/DC1uKScEsx9jba",
      "include_colab_link": true
    },
    "kernelspec": {
      "name": "python3",
      "display_name": "Python 3"
    },
    "language_info": {
      "name": "python"
    }
  },
  "cells": [
    {
      "cell_type": "markdown",
      "metadata": {
        "id": "view-in-github",
        "colab_type": "text"
      },
      "source": [
        "<a href=\"https://colab.research.google.com/github/aliyusifov99/Hollywood-Theatrical-Market-Synopsis-1995-to-2021/blob/main/Hollywood_Theatrical_Market_Synopsis_1995_to_2021.ipynb\" target=\"_parent\"><img src=\"https://colab.research.google.com/assets/colab-badge.svg\" alt=\"Open In Colab\"/></a>"
      ]
    },
    {
      "cell_type": "markdown",
      "source": [
        "### Importing the necesssary libraries"
      ],
      "metadata": {
        "id": "1gVZ-SAeZktP"
      }
    },
    {
      "cell_type": "code",
      "source": [
        "import pandas as pd\n",
        "import numpy as np\n",
        "import matplotlib.pyplot as plt\n",
        "import seaborn as sns\n",
        "import plotly.graph_objects as go"
      ],
      "metadata": {
        "id": "Cw27boT7aCk8"
      },
      "execution_count": 107,
      "outputs": []
    },
    {
      "cell_type": "markdown",
      "source": [
        "### Importin the datasets"
      ],
      "metadata": {
        "id": "FmgqhBvPaH7K"
      }
    },
    {
      "cell_type": "code",
      "source": [
        "AnnualTicketSales = pd.read_csv('AnnualTicketSales.csv')\n",
        "HighestGrossers = pd.read_csv('HighestGrossers.csv')\n",
        "PopularCreativeTypes = pd.read_csv('PopularCreativeTypes.csv')\n",
        "TopDistributors = pd.read_csv('TopDistributors.csv')\n",
        "TopGenres = pd.read_csv('TopGenres.csv')\n",
        "TopGrossingRatings = pd.read_csv('TopGrossingRatings.csv')\n",
        "TopGrossingSources = pd.read_csv('TopGrossingSources.csv')\n",
        "TopProductionMethods = pd.read_csv('TopProductionMethods.csv')\n",
        "WideReleasesCount = pd.read_csv('WideReleasesCount.csv')"
      ],
      "metadata": {
        "id": "cjtnsLPTaK52"
      },
      "execution_count": 98,
      "outputs": []
    },
    {
      "cell_type": "markdown",
      "source": [
        "I will try to analyze each dataset seperately in this notebook"
      ],
      "metadata": {
        "id": "eq1S4YAla52F"
      }
    },
    {
      "cell_type": "markdown",
      "source": [
        "### Annual Ticket Sales analysis"
      ],
      "metadata": {
        "id": "_q9jVdUnbAVV"
      }
    },
    {
      "cell_type": "code",
      "source": [
        "AnnualTicketSales.head()"
      ],
      "metadata": {
        "colab": {
          "base_uri": "https://localhost:8080/",
          "height": 206
        },
        "id": "rP6wf3ogbDJy",
        "outputId": "406e68e6-c56b-47c4-998f-7a3aadb9a687"
      },
      "execution_count": 99,
      "outputs": [
        {
          "output_type": "execute_result",
          "data": {
            "text/html": [
              "\n",
              "  <div id=\"df-a9636d9e-1cd2-475c-bd3d-1dcc24ab927c\">\n",
              "    <div class=\"colab-df-container\">\n",
              "      <div>\n",
              "<style scoped>\n",
              "    .dataframe tbody tr th:only-of-type {\n",
              "        vertical-align: middle;\n",
              "    }\n",
              "\n",
              "    .dataframe tbody tr th {\n",
              "        vertical-align: top;\n",
              "    }\n",
              "\n",
              "    .dataframe thead th {\n",
              "        text-align: right;\n",
              "    }\n",
              "</style>\n",
              "<table border=\"1\" class=\"dataframe\">\n",
              "  <thead>\n",
              "    <tr style=\"text-align: right;\">\n",
              "      <th></th>\n",
              "      <th>YEAR</th>\n",
              "      <th>TICKETS SOLD</th>\n",
              "      <th>TOTAL BOX OFFICE</th>\n",
              "      <th>TOTAL INFLATION ADJUSTED BOX OFFICE</th>\n",
              "      <th>AVERAGE TICKET PRICE</th>\n",
              "      <th>Unnamed: 5</th>\n",
              "    </tr>\n",
              "  </thead>\n",
              "  <tbody>\n",
              "    <tr>\n",
              "      <th>0</th>\n",
              "      <td>2021</td>\n",
              "      <td>42,37,74,881</td>\n",
              "      <td>$3,881,777,912</td>\n",
              "      <td>$3,881,777,912</td>\n",
              "      <td>$9.16</td>\n",
              "      <td>NaN</td>\n",
              "    </tr>\n",
              "    <tr>\n",
              "      <th>1</th>\n",
              "      <td>2020</td>\n",
              "      <td>22,36,38,958</td>\n",
              "      <td>$2,048,534,616</td>\n",
              "      <td>$2,048,534,616</td>\n",
              "      <td>$9.16</td>\n",
              "      <td>NaN</td>\n",
              "    </tr>\n",
              "    <tr>\n",
              "      <th>2</th>\n",
              "      <td>2019</td>\n",
              "      <td>1,22,85,41,629</td>\n",
              "      <td>$11,253,443,955</td>\n",
              "      <td>$11,253,444,050</td>\n",
              "      <td>$9.16</td>\n",
              "      <td>NaN</td>\n",
              "    </tr>\n",
              "    <tr>\n",
              "      <th>3</th>\n",
              "      <td>2018</td>\n",
              "      <td>1,31,15,36,128</td>\n",
              "      <td>$11,948,096,650</td>\n",
              "      <td>$12,013,670,952</td>\n",
              "      <td>$9.11</td>\n",
              "      <td>NaN</td>\n",
              "    </tr>\n",
              "    <tr>\n",
              "      <th>4</th>\n",
              "      <td>2017</td>\n",
              "      <td>1,22,56,39,761</td>\n",
              "      <td>$10,993,991,460</td>\n",
              "      <td>$11,226,860,216</td>\n",
              "      <td>$8.97</td>\n",
              "      <td>NaN</td>\n",
              "    </tr>\n",
              "  </tbody>\n",
              "</table>\n",
              "</div>\n",
              "      <button class=\"colab-df-convert\" onclick=\"convertToInteractive('df-a9636d9e-1cd2-475c-bd3d-1dcc24ab927c')\"\n",
              "              title=\"Convert this dataframe to an interactive table.\"\n",
              "              style=\"display:none;\">\n",
              "        \n",
              "  <svg xmlns=\"http://www.w3.org/2000/svg\" height=\"24px\"viewBox=\"0 0 24 24\"\n",
              "       width=\"24px\">\n",
              "    <path d=\"M0 0h24v24H0V0z\" fill=\"none\"/>\n",
              "    <path d=\"M18.56 5.44l.94 2.06.94-2.06 2.06-.94-2.06-.94-.94-2.06-.94 2.06-2.06.94zm-11 1L8.5 8.5l.94-2.06 2.06-.94-2.06-.94L8.5 2.5l-.94 2.06-2.06.94zm10 10l.94 2.06.94-2.06 2.06-.94-2.06-.94-.94-2.06-.94 2.06-2.06.94z\"/><path d=\"M17.41 7.96l-1.37-1.37c-.4-.4-.92-.59-1.43-.59-.52 0-1.04.2-1.43.59L10.3 9.45l-7.72 7.72c-.78.78-.78 2.05 0 2.83L4 21.41c.39.39.9.59 1.41.59.51 0 1.02-.2 1.41-.59l7.78-7.78 2.81-2.81c.8-.78.8-2.07 0-2.86zM5.41 20L4 18.59l7.72-7.72 1.47 1.35L5.41 20z\"/>\n",
              "  </svg>\n",
              "      </button>\n",
              "      \n",
              "  <style>\n",
              "    .colab-df-container {\n",
              "      display:flex;\n",
              "      flex-wrap:wrap;\n",
              "      gap: 12px;\n",
              "    }\n",
              "\n",
              "    .colab-df-convert {\n",
              "      background-color: #E8F0FE;\n",
              "      border: none;\n",
              "      border-radius: 50%;\n",
              "      cursor: pointer;\n",
              "      display: none;\n",
              "      fill: #1967D2;\n",
              "      height: 32px;\n",
              "      padding: 0 0 0 0;\n",
              "      width: 32px;\n",
              "    }\n",
              "\n",
              "    .colab-df-convert:hover {\n",
              "      background-color: #E2EBFA;\n",
              "      box-shadow: 0px 1px 2px rgba(60, 64, 67, 0.3), 0px 1px 3px 1px rgba(60, 64, 67, 0.15);\n",
              "      fill: #174EA6;\n",
              "    }\n",
              "\n",
              "    [theme=dark] .colab-df-convert {\n",
              "      background-color: #3B4455;\n",
              "      fill: #D2E3FC;\n",
              "    }\n",
              "\n",
              "    [theme=dark] .colab-df-convert:hover {\n",
              "      background-color: #434B5C;\n",
              "      box-shadow: 0px 1px 3px 1px rgba(0, 0, 0, 0.15);\n",
              "      filter: drop-shadow(0px 1px 2px rgba(0, 0, 0, 0.3));\n",
              "      fill: #FFFFFF;\n",
              "    }\n",
              "  </style>\n",
              "\n",
              "      <script>\n",
              "        const buttonEl =\n",
              "          document.querySelector('#df-a9636d9e-1cd2-475c-bd3d-1dcc24ab927c button.colab-df-convert');\n",
              "        buttonEl.style.display =\n",
              "          google.colab.kernel.accessAllowed ? 'block' : 'none';\n",
              "\n",
              "        async function convertToInteractive(key) {\n",
              "          const element = document.querySelector('#df-a9636d9e-1cd2-475c-bd3d-1dcc24ab927c');\n",
              "          const dataTable =\n",
              "            await google.colab.kernel.invokeFunction('convertToInteractive',\n",
              "                                                     [key], {});\n",
              "          if (!dataTable) return;\n",
              "\n",
              "          const docLinkHtml = 'Like what you see? Visit the ' +\n",
              "            '<a target=\"_blank\" href=https://colab.research.google.com/notebooks/data_table.ipynb>data table notebook</a>'\n",
              "            + ' to learn more about interactive tables.';\n",
              "          element.innerHTML = '';\n",
              "          dataTable['output_type'] = 'display_data';\n",
              "          await google.colab.output.renderOutput(dataTable, element);\n",
              "          const docLink = document.createElement('div');\n",
              "          docLink.innerHTML = docLinkHtml;\n",
              "          element.appendChild(docLink);\n",
              "        }\n",
              "      </script>\n",
              "    </div>\n",
              "  </div>\n",
              "  "
            ],
            "text/plain": [
              "   YEAR    TICKETS SOLD  ... AVERAGE TICKET PRICE Unnamed: 5\n",
              "0  2021    42,37,74,881  ...                $9.16        NaN\n",
              "1  2020    22,36,38,958  ...                $9.16        NaN\n",
              "2  2019  1,22,85,41,629  ...                $9.16        NaN\n",
              "3  2018  1,31,15,36,128  ...                $9.11        NaN\n",
              "4  2017  1,22,56,39,761  ...                $8.97        NaN\n",
              "\n",
              "[5 rows x 6 columns]"
            ]
          },
          "metadata": {},
          "execution_count": 99
        }
      ]
    },
    {
      "cell_type": "code",
      "source": [
        "#The number of of null values\n",
        "AnnualTicketSales.isnull().sum()"
      ],
      "metadata": {
        "colab": {
          "base_uri": "https://localhost:8080/"
        },
        "id": "wr7A1dQzbGE1",
        "outputId": "69235851-3df5-4de6-996a-2253eef50ef6"
      },
      "execution_count": 100,
      "outputs": [
        {
          "output_type": "execute_result",
          "data": {
            "text/plain": [
              "YEAR                                    0\n",
              "TICKETS SOLD                            0\n",
              "TOTAL BOX OFFICE                        0\n",
              "TOTAL INFLATION ADJUSTED BOX OFFICE     0\n",
              "AVERAGE TICKET PRICE                    0\n",
              "Unnamed: 5                             27\n",
              "dtype: int64"
            ]
          },
          "metadata": {},
          "execution_count": 100
        }
      ]
    },
    {
      "cell_type": "code",
      "source": [
        "# Removing Unnecessay Unnamed: 5 column\n",
        "AnnualTicketSales = AnnualTicketSales.drop('Unnamed: 5', axis=1)"
      ],
      "metadata": {
        "id": "MgGCm7t4bSUl"
      },
      "execution_count": 101,
      "outputs": []
    },
    {
      "cell_type": "code",
      "source": [
        "AnnualTicketSales.head()"
      ],
      "metadata": {
        "colab": {
          "base_uri": "https://localhost:8080/",
          "height": 206
        },
        "id": "wKDGt-meb3Cx",
        "outputId": "577c60a2-f20c-42d1-9511-379b2ffa4d28"
      },
      "execution_count": 102,
      "outputs": [
        {
          "output_type": "execute_result",
          "data": {
            "text/html": [
              "\n",
              "  <div id=\"df-61bc7d45-e747-46aa-91e1-6fb62fd6aea9\">\n",
              "    <div class=\"colab-df-container\">\n",
              "      <div>\n",
              "<style scoped>\n",
              "    .dataframe tbody tr th:only-of-type {\n",
              "        vertical-align: middle;\n",
              "    }\n",
              "\n",
              "    .dataframe tbody tr th {\n",
              "        vertical-align: top;\n",
              "    }\n",
              "\n",
              "    .dataframe thead th {\n",
              "        text-align: right;\n",
              "    }\n",
              "</style>\n",
              "<table border=\"1\" class=\"dataframe\">\n",
              "  <thead>\n",
              "    <tr style=\"text-align: right;\">\n",
              "      <th></th>\n",
              "      <th>YEAR</th>\n",
              "      <th>TICKETS SOLD</th>\n",
              "      <th>TOTAL BOX OFFICE</th>\n",
              "      <th>TOTAL INFLATION ADJUSTED BOX OFFICE</th>\n",
              "      <th>AVERAGE TICKET PRICE</th>\n",
              "    </tr>\n",
              "  </thead>\n",
              "  <tbody>\n",
              "    <tr>\n",
              "      <th>0</th>\n",
              "      <td>2021</td>\n",
              "      <td>42,37,74,881</td>\n",
              "      <td>$3,881,777,912</td>\n",
              "      <td>$3,881,777,912</td>\n",
              "      <td>$9.16</td>\n",
              "    </tr>\n",
              "    <tr>\n",
              "      <th>1</th>\n",
              "      <td>2020</td>\n",
              "      <td>22,36,38,958</td>\n",
              "      <td>$2,048,534,616</td>\n",
              "      <td>$2,048,534,616</td>\n",
              "      <td>$9.16</td>\n",
              "    </tr>\n",
              "    <tr>\n",
              "      <th>2</th>\n",
              "      <td>2019</td>\n",
              "      <td>1,22,85,41,629</td>\n",
              "      <td>$11,253,443,955</td>\n",
              "      <td>$11,253,444,050</td>\n",
              "      <td>$9.16</td>\n",
              "    </tr>\n",
              "    <tr>\n",
              "      <th>3</th>\n",
              "      <td>2018</td>\n",
              "      <td>1,31,15,36,128</td>\n",
              "      <td>$11,948,096,650</td>\n",
              "      <td>$12,013,670,952</td>\n",
              "      <td>$9.11</td>\n",
              "    </tr>\n",
              "    <tr>\n",
              "      <th>4</th>\n",
              "      <td>2017</td>\n",
              "      <td>1,22,56,39,761</td>\n",
              "      <td>$10,993,991,460</td>\n",
              "      <td>$11,226,860,216</td>\n",
              "      <td>$8.97</td>\n",
              "    </tr>\n",
              "  </tbody>\n",
              "</table>\n",
              "</div>\n",
              "      <button class=\"colab-df-convert\" onclick=\"convertToInteractive('df-61bc7d45-e747-46aa-91e1-6fb62fd6aea9')\"\n",
              "              title=\"Convert this dataframe to an interactive table.\"\n",
              "              style=\"display:none;\">\n",
              "        \n",
              "  <svg xmlns=\"http://www.w3.org/2000/svg\" height=\"24px\"viewBox=\"0 0 24 24\"\n",
              "       width=\"24px\">\n",
              "    <path d=\"M0 0h24v24H0V0z\" fill=\"none\"/>\n",
              "    <path d=\"M18.56 5.44l.94 2.06.94-2.06 2.06-.94-2.06-.94-.94-2.06-.94 2.06-2.06.94zm-11 1L8.5 8.5l.94-2.06 2.06-.94-2.06-.94L8.5 2.5l-.94 2.06-2.06.94zm10 10l.94 2.06.94-2.06 2.06-.94-2.06-.94-.94-2.06-.94 2.06-2.06.94z\"/><path d=\"M17.41 7.96l-1.37-1.37c-.4-.4-.92-.59-1.43-.59-.52 0-1.04.2-1.43.59L10.3 9.45l-7.72 7.72c-.78.78-.78 2.05 0 2.83L4 21.41c.39.39.9.59 1.41.59.51 0 1.02-.2 1.41-.59l7.78-7.78 2.81-2.81c.8-.78.8-2.07 0-2.86zM5.41 20L4 18.59l7.72-7.72 1.47 1.35L5.41 20z\"/>\n",
              "  </svg>\n",
              "      </button>\n",
              "      \n",
              "  <style>\n",
              "    .colab-df-container {\n",
              "      display:flex;\n",
              "      flex-wrap:wrap;\n",
              "      gap: 12px;\n",
              "    }\n",
              "\n",
              "    .colab-df-convert {\n",
              "      background-color: #E8F0FE;\n",
              "      border: none;\n",
              "      border-radius: 50%;\n",
              "      cursor: pointer;\n",
              "      display: none;\n",
              "      fill: #1967D2;\n",
              "      height: 32px;\n",
              "      padding: 0 0 0 0;\n",
              "      width: 32px;\n",
              "    }\n",
              "\n",
              "    .colab-df-convert:hover {\n",
              "      background-color: #E2EBFA;\n",
              "      box-shadow: 0px 1px 2px rgba(60, 64, 67, 0.3), 0px 1px 3px 1px rgba(60, 64, 67, 0.15);\n",
              "      fill: #174EA6;\n",
              "    }\n",
              "\n",
              "    [theme=dark] .colab-df-convert {\n",
              "      background-color: #3B4455;\n",
              "      fill: #D2E3FC;\n",
              "    }\n",
              "\n",
              "    [theme=dark] .colab-df-convert:hover {\n",
              "      background-color: #434B5C;\n",
              "      box-shadow: 0px 1px 3px 1px rgba(0, 0, 0, 0.15);\n",
              "      filter: drop-shadow(0px 1px 2px rgba(0, 0, 0, 0.3));\n",
              "      fill: #FFFFFF;\n",
              "    }\n",
              "  </style>\n",
              "\n",
              "      <script>\n",
              "        const buttonEl =\n",
              "          document.querySelector('#df-61bc7d45-e747-46aa-91e1-6fb62fd6aea9 button.colab-df-convert');\n",
              "        buttonEl.style.display =\n",
              "          google.colab.kernel.accessAllowed ? 'block' : 'none';\n",
              "\n",
              "        async function convertToInteractive(key) {\n",
              "          const element = document.querySelector('#df-61bc7d45-e747-46aa-91e1-6fb62fd6aea9');\n",
              "          const dataTable =\n",
              "            await google.colab.kernel.invokeFunction('convertToInteractive',\n",
              "                                                     [key], {});\n",
              "          if (!dataTable) return;\n",
              "\n",
              "          const docLinkHtml = 'Like what you see? Visit the ' +\n",
              "            '<a target=\"_blank\" href=https://colab.research.google.com/notebooks/data_table.ipynb>data table notebook</a>'\n",
              "            + ' to learn more about interactive tables.';\n",
              "          element.innerHTML = '';\n",
              "          dataTable['output_type'] = 'display_data';\n",
              "          await google.colab.output.renderOutput(dataTable, element);\n",
              "          const docLink = document.createElement('div');\n",
              "          docLink.innerHTML = docLinkHtml;\n",
              "          element.appendChild(docLink);\n",
              "        }\n",
              "      </script>\n",
              "    </div>\n",
              "  </div>\n",
              "  "
            ],
            "text/plain": [
              "   YEAR  ... AVERAGE TICKET PRICE\n",
              "0  2021  ...                $9.16\n",
              "1  2020  ...                $9.16\n",
              "2  2019  ...                $9.16\n",
              "3  2018  ...                $9.11\n",
              "4  2017  ...                $8.97\n",
              "\n",
              "[5 rows x 5 columns]"
            ]
          },
          "metadata": {},
          "execution_count": 102
        }
      ]
    },
    {
      "cell_type": "code",
      "source": [
        "AnnualTicketSales.info()"
      ],
      "metadata": {
        "colab": {
          "base_uri": "https://localhost:8080/"
        },
        "id": "0vVDs39B-zaS",
        "outputId": "9114677b-c347-4f92-8a50-a50b18502e64"
      },
      "execution_count": 103,
      "outputs": [
        {
          "output_type": "stream",
          "name": "stdout",
          "text": [
            "<class 'pandas.core.frame.DataFrame'>\n",
            "RangeIndex: 27 entries, 0 to 26\n",
            "Data columns (total 5 columns):\n",
            " #   Column                               Non-Null Count  Dtype \n",
            "---  ------                               --------------  ----- \n",
            " 0   YEAR                                 27 non-null     int64 \n",
            " 1   TICKETS SOLD                         27 non-null     object\n",
            " 2   TOTAL BOX OFFICE                     27 non-null     object\n",
            " 3   TOTAL INFLATION ADJUSTED BOX OFFICE  27 non-null     object\n",
            " 4   AVERAGE TICKET PRICE                 27 non-null     object\n",
            "dtypes: int64(1), object(4)\n",
            "memory usage: 1.2+ KB\n"
          ]
        }
      ]
    },
    {
      "cell_type": "markdown",
      "source": [
        "As we see type of our some values are object. We need to convert them to integer and float first. "
      ],
      "metadata": {
        "id": "ghUI6_74_ZZZ"
      }
    },
    {
      "cell_type": "code",
      "source": [
        "#Converting TICKET SOLD from object to int\n",
        "AnnualTicketSales['TICKETS SOLD']=AnnualTicketSales['TICKETS SOLD'].replace(',','', regex=True)\n",
        "AnnualTicketSales['TICKETS SOLD']=pd.to_numeric(AnnualTicketSales['TICKETS SOLD'])\n",
        "\n",
        "#Converting TOTAL BOX OFFICE from object to int\n",
        "AnnualTicketSales['TOTAL BOX OFFICE']=AnnualTicketSales['TOTAL BOX OFFICE'].replace(',','', regex=True)\n",
        "AnnualTicketSales['TOTAL BOX OFFICE']=AnnualTicketSales['TOTAL BOX OFFICE'].str.replace('$','', regex=True)\n",
        "AnnualTicketSales['TOTAL BOX OFFICE']=pd.to_numeric(AnnualTicketSales['TOTAL BOX OFFICE'])\n",
        "\n",
        "#Converting TOTAL INFLATION ADJUSTED BOX OFFICE from object to int\n",
        "AnnualTicketSales['TOTAL INFLATION ADJUSTED BOX OFFICE']=AnnualTicketSales['TOTAL INFLATION ADJUSTED BOX OFFICE'].replace(',','', regex=True)\n",
        "AnnualTicketSales['TOTAL INFLATION ADJUSTED BOX OFFICE']=AnnualTicketSales['TOTAL INFLATION ADJUSTED BOX OFFICE'].str.replace('$','', regex=True)\n",
        "AnnualTicketSales['TOTAL INFLATION ADJUSTED BOX OFFICE']=pd.to_numeric(AnnualTicketSales['TOTAL INFLATION ADJUSTED BOX OFFICE'])\n",
        "\n",
        "\n",
        "#Converting AVERAGE TICKET PRICE from object to int\n",
        "AnnualTicketSales['AVERAGE TICKET PRICE']=AnnualTicketSales['AVERAGE TICKET PRICE'].replace(',','', regex=True)\n",
        "AnnualTicketSales['AVERAGE TICKET PRICE']=AnnualTicketSales['AVERAGE TICKET PRICE'].str.replace('$','', regex=True)\n",
        "AnnualTicketSales['AVERAGE TICKET PRICE']=pd.to_numeric(AnnualTicketSales['AVERAGE TICKET PRICE'])\n"
      ],
      "metadata": {
        "id": "Hq20GDbm_qe6"
      },
      "execution_count": 104,
      "outputs": []
    },
    {
      "cell_type": "code",
      "source": [
        "#Final DataFrame\n",
        "AnnualTicketSales.head()"
      ],
      "metadata": {
        "colab": {
          "base_uri": "https://localhost:8080/",
          "height": 206
        },
        "id": "RnGmMsyECv8w",
        "outputId": "a9e1e339-3794-4cf2-fef7-66ce44647058"
      },
      "execution_count": 105,
      "outputs": [
        {
          "output_type": "execute_result",
          "data": {
            "text/html": [
              "\n",
              "  <div id=\"df-9db1bb3d-f262-477e-8e30-57fe7cd01394\">\n",
              "    <div class=\"colab-df-container\">\n",
              "      <div>\n",
              "<style scoped>\n",
              "    .dataframe tbody tr th:only-of-type {\n",
              "        vertical-align: middle;\n",
              "    }\n",
              "\n",
              "    .dataframe tbody tr th {\n",
              "        vertical-align: top;\n",
              "    }\n",
              "\n",
              "    .dataframe thead th {\n",
              "        text-align: right;\n",
              "    }\n",
              "</style>\n",
              "<table border=\"1\" class=\"dataframe\">\n",
              "  <thead>\n",
              "    <tr style=\"text-align: right;\">\n",
              "      <th></th>\n",
              "      <th>YEAR</th>\n",
              "      <th>TICKETS SOLD</th>\n",
              "      <th>TOTAL BOX OFFICE</th>\n",
              "      <th>TOTAL INFLATION ADJUSTED BOX OFFICE</th>\n",
              "      <th>AVERAGE TICKET PRICE</th>\n",
              "    </tr>\n",
              "  </thead>\n",
              "  <tbody>\n",
              "    <tr>\n",
              "      <th>0</th>\n",
              "      <td>2021</td>\n",
              "      <td>423774881</td>\n",
              "      <td>3881777912</td>\n",
              "      <td>3881777912</td>\n",
              "      <td>9.16</td>\n",
              "    </tr>\n",
              "    <tr>\n",
              "      <th>1</th>\n",
              "      <td>2020</td>\n",
              "      <td>223638958</td>\n",
              "      <td>2048534616</td>\n",
              "      <td>2048534616</td>\n",
              "      <td>9.16</td>\n",
              "    </tr>\n",
              "    <tr>\n",
              "      <th>2</th>\n",
              "      <td>2019</td>\n",
              "      <td>1228541629</td>\n",
              "      <td>11253443955</td>\n",
              "      <td>11253444050</td>\n",
              "      <td>9.16</td>\n",
              "    </tr>\n",
              "    <tr>\n",
              "      <th>3</th>\n",
              "      <td>2018</td>\n",
              "      <td>1311536128</td>\n",
              "      <td>11948096650</td>\n",
              "      <td>12013670952</td>\n",
              "      <td>9.11</td>\n",
              "    </tr>\n",
              "    <tr>\n",
              "      <th>4</th>\n",
              "      <td>2017</td>\n",
              "      <td>1225639761</td>\n",
              "      <td>10993991460</td>\n",
              "      <td>11226860216</td>\n",
              "      <td>8.97</td>\n",
              "    </tr>\n",
              "  </tbody>\n",
              "</table>\n",
              "</div>\n",
              "      <button class=\"colab-df-convert\" onclick=\"convertToInteractive('df-9db1bb3d-f262-477e-8e30-57fe7cd01394')\"\n",
              "              title=\"Convert this dataframe to an interactive table.\"\n",
              "              style=\"display:none;\">\n",
              "        \n",
              "  <svg xmlns=\"http://www.w3.org/2000/svg\" height=\"24px\"viewBox=\"0 0 24 24\"\n",
              "       width=\"24px\">\n",
              "    <path d=\"M0 0h24v24H0V0z\" fill=\"none\"/>\n",
              "    <path d=\"M18.56 5.44l.94 2.06.94-2.06 2.06-.94-2.06-.94-.94-2.06-.94 2.06-2.06.94zm-11 1L8.5 8.5l.94-2.06 2.06-.94-2.06-.94L8.5 2.5l-.94 2.06-2.06.94zm10 10l.94 2.06.94-2.06 2.06-.94-2.06-.94-.94-2.06-.94 2.06-2.06.94z\"/><path d=\"M17.41 7.96l-1.37-1.37c-.4-.4-.92-.59-1.43-.59-.52 0-1.04.2-1.43.59L10.3 9.45l-7.72 7.72c-.78.78-.78 2.05 0 2.83L4 21.41c.39.39.9.59 1.41.59.51 0 1.02-.2 1.41-.59l7.78-7.78 2.81-2.81c.8-.78.8-2.07 0-2.86zM5.41 20L4 18.59l7.72-7.72 1.47 1.35L5.41 20z\"/>\n",
              "  </svg>\n",
              "      </button>\n",
              "      \n",
              "  <style>\n",
              "    .colab-df-container {\n",
              "      display:flex;\n",
              "      flex-wrap:wrap;\n",
              "      gap: 12px;\n",
              "    }\n",
              "\n",
              "    .colab-df-convert {\n",
              "      background-color: #E8F0FE;\n",
              "      border: none;\n",
              "      border-radius: 50%;\n",
              "      cursor: pointer;\n",
              "      display: none;\n",
              "      fill: #1967D2;\n",
              "      height: 32px;\n",
              "      padding: 0 0 0 0;\n",
              "      width: 32px;\n",
              "    }\n",
              "\n",
              "    .colab-df-convert:hover {\n",
              "      background-color: #E2EBFA;\n",
              "      box-shadow: 0px 1px 2px rgba(60, 64, 67, 0.3), 0px 1px 3px 1px rgba(60, 64, 67, 0.15);\n",
              "      fill: #174EA6;\n",
              "    }\n",
              "\n",
              "    [theme=dark] .colab-df-convert {\n",
              "      background-color: #3B4455;\n",
              "      fill: #D2E3FC;\n",
              "    }\n",
              "\n",
              "    [theme=dark] .colab-df-convert:hover {\n",
              "      background-color: #434B5C;\n",
              "      box-shadow: 0px 1px 3px 1px rgba(0, 0, 0, 0.15);\n",
              "      filter: drop-shadow(0px 1px 2px rgba(0, 0, 0, 0.3));\n",
              "      fill: #FFFFFF;\n",
              "    }\n",
              "  </style>\n",
              "\n",
              "      <script>\n",
              "        const buttonEl =\n",
              "          document.querySelector('#df-9db1bb3d-f262-477e-8e30-57fe7cd01394 button.colab-df-convert');\n",
              "        buttonEl.style.display =\n",
              "          google.colab.kernel.accessAllowed ? 'block' : 'none';\n",
              "\n",
              "        async function convertToInteractive(key) {\n",
              "          const element = document.querySelector('#df-9db1bb3d-f262-477e-8e30-57fe7cd01394');\n",
              "          const dataTable =\n",
              "            await google.colab.kernel.invokeFunction('convertToInteractive',\n",
              "                                                     [key], {});\n",
              "          if (!dataTable) return;\n",
              "\n",
              "          const docLinkHtml = 'Like what you see? Visit the ' +\n",
              "            '<a target=\"_blank\" href=https://colab.research.google.com/notebooks/data_table.ipynb>data table notebook</a>'\n",
              "            + ' to learn more about interactive tables.';\n",
              "          element.innerHTML = '';\n",
              "          dataTable['output_type'] = 'display_data';\n",
              "          await google.colab.output.renderOutput(dataTable, element);\n",
              "          const docLink = document.createElement('div');\n",
              "          docLink.innerHTML = docLinkHtml;\n",
              "          element.appendChild(docLink);\n",
              "        }\n",
              "      </script>\n",
              "    </div>\n",
              "  </div>\n",
              "  "
            ],
            "text/plain": [
              "   YEAR  ...  AVERAGE TICKET PRICE\n",
              "0  2021  ...                  9.16\n",
              "1  2020  ...                  9.16\n",
              "2  2019  ...                  9.16\n",
              "3  2018  ...                  9.11\n",
              "4  2017  ...                  8.97\n",
              "\n",
              "[5 rows x 5 columns]"
            ]
          },
          "metadata": {},
          "execution_count": 105
        }
      ]
    },
    {
      "cell_type": "code",
      "source": [
        "# Average Ticket Price change yearly\n",
        "figure=plt.Figure()\n",
        "plt.scatter(AnnualTicketSales['YEAR'], AnnualTicketSales['AVERAGE TICKET PRICE'])\n",
        "plt.ylabel('AVERAGE TICKET PRICE')\n",
        "plt.xlabel('YEAR')\n",
        "plt.title('AVERAGE TICKET PRICE PER YEAR')\n",
        "plt.show()"
      ],
      "metadata": {
        "colab": {
          "base_uri": "https://localhost:8080/",
          "height": 279
        },
        "id": "uhZElJa5b6U7",
        "outputId": "a69f7942-b199-4e12-f5c6-5a8fc62fa50c"
      },
      "execution_count": 89,
      "outputs": [
        {
          "output_type": "display_data",
          "data": {
            "image/png": "[encoded data removed]",
            "text/plain": [
              "<Figure size 432x288 with 1 Axes>"
            ]
          },
          "metadata": {
            "needs_background": "light"
          }
        }
      ]
    },
    {
      "cell_type": "markdown",
      "source": [
        "From scatter plot we can observe that Ticket Price has been increased from 3 dollar to around 10$ throughout these years."
      ],
      "metadata": {
        "id": "zCAH0FusDQv5"
      }
    },
    {
      "cell_type": "code",
      "source": [
        "# Total tickets sold every year\n",
        "plt.bar(AnnualTicketSales['YEAR'], AnnualTicketSales['TICKETS SOLD'])\n",
        "plt.xlabel(\"YEAR\")\n",
        "plt.ylabel(\"TICKETS SOLD (in billions)\")\n",
        "plt.title(\"TICKETS SOLD IN BILLIONS EVERY YEAR\")\n",
        "plt.show()"
      ],
      "metadata": {
        "colab": {
          "base_uri": "https://localhost:8080/",
          "height": 295
        },
        "id": "k68BAil-c27y",
        "outputId": "8457a443-0370-4ca3-a6ab-655fdcc00494"
      },
      "execution_count": 96,
      "outputs": [
        {
          "output_type": "display_data",
          "data": {
            "image/png": "[encoded data removed]",
            "text/plain": [
              "<Figure size 432x288 with 1 Axes>"
            ]
          },
          "metadata": {
            "needs_background": "light"
          }
        }
      ]
    },
    {
      "cell_type": "markdown",
      "source": [
        "From the barplot we can see that total tickets sold fro 1995 till 2020 did not change much. Only last 2 years we can observe the lowest values."
      ],
      "metadata": {
        "id": "nKc8CBcd-XrH"
      }
    },
    {
      "cell_type": "code",
      "source": [
        "#Total Box Office and Inflation from 1995 to 2020\n",
        "fig = go.Figure()\n",
        "\n",
        "# Add graph object\n",
        "fig.add_trace(go.Scatter(x=AnnualTicketSales['YEAR'],\n",
        "                        y=AnnualTicketSales['TOTAL BOX OFFICE'],\n",
        "                        mode='markers+lines',\n",
        "                        name='TOTAL BOX OFFICE',\n",
        "                        marker=dict(color='rgba(200, 148, 237,.7)')))\n",
        "\n",
        "fig.add_trace(go.Scatter(x=AnnualTicketSales['YEAR'],\n",
        "                        y=AnnualTicketSales['TOTAL INFLATION ADJUSTED BOX OFFICE'],\n",
        "                        mode='markers+lines',\n",
        "                        name='TOTAL INFLATION ADJUSTED BOX OFFICE',\n",
        "                        marker=dict(color='rgba(205, 210, 250,.7)')))\n",
        "\n",
        "# Update layout\n",
        "fig.update_layout(title='TOTAL BOX OFFICE AND INFLATION EACH YEAR',\n",
        "                 yaxis=dict(showgrid=False, showline=True, linecolor='rgb(0,0,0)', title='USD'),\n",
        "                 xaxis=dict(showgrid=False, showline=True, linecolor='rgb(0,0,0)', title='YEAR'),\n",
        "                 paper_bgcolor='rgb(255,255,255)',\n",
        "                 plot_bgcolor='rgb(255,255,255)',\n",
        "                 hovermode='x unified')\n",
        "\n",
        "# Add annotation with arrow\n",
        "fig.add_annotation(x=AnnualTicketSales.iloc[AnnualTicketSales['TOTAL INFLATION ADJUSTED BOX OFFICE'].argmax()].YEAR,\n",
        "                    y=AnnualTicketSales['TOTAL INFLATION ADJUSTED BOX OFFICE'][AnnualTicketSales.YEAR==AnnualTicketSales.iloc[AnnualTicketSales['TOTAL INFLATION ADJUSTED BOX OFFICE'].argmax()].YEAR].values[0],\n",
        "                    text='Highest TOTAL INFLATION BOX OFFICE')\n",
        "\n",
        "fig.add_annotation(x=AnnualTicketSales.iloc[AnnualTicketSales['TOTAL BOX OFFICE'].argmax()].YEAR,\n",
        "                    y=AnnualTicketSales['TOTAL BOX OFFICE'][AnnualTicketSales.YEAR==AnnualTicketSales.iloc[AnnualTicketSales['TOTAL BOX OFFICE'].argmax()].YEAR].values[0],\n",
        "                    text='Highest TOTAL BOX OFFICE')\n",
        "fig.show()"
      ],
      "metadata": {
        "colab": {
          "base_uri": "https://localhost:8080/",
          "height": 542
        },
        "id": "rqBUxKuCEwr7",
        "outputId": "9b67eeef-9180-4d28-d698-e29eb35f1bb5"
      },
      "execution_count": 111,
      "outputs": [
        {
          "output_type": "display_data",
          "data": {
            "text/html": [
              "<html>\n",
              "<head><meta charset=\"utf-8\" /></head>\n",
              "<body>\n",
              "    <div>            <script src=\"https://cdnjs.cloudflare.com/ajax/libs/mathjax/2.7.5/MathJax.js?config=TeX-AMS-MML_SVG\"></script><script type=\"text/javascript\">if (window.MathJax) {MathJax.Hub.Config({SVG: {font: \"STIX-Web\"}});}</script>                <script type=\"text/javascript\">window.PlotlyConfig = {MathJaxConfig: 'local'};</script>\n",
              "        <script src=\"https://cdn.plot.ly/plotly-2.8.3.min.js\"></script>                <div id=\"6a2aed83-2426-4ece-8a1f-57b9177b3f1e\" class=\"plotly-graph-div\" style=\"height:525px; width:100%;\"></div>            <script type=\"text/javascript\">                                    window.PLOTLYENV=window.PLOTLYENV || {};                                    if (document.getElementById(\"6a2aed83-2426-4ece-8a1f-57b9177b3f1e\")) {                    Plotly.newPlot(                        \"6a2aed83-2426-4ece-8a1f-57b9177b3f1e\",                        [{\"marker\":{\"color\":\"rgba(200, 148, 237,.7)\"},\"mode\":\"markers+lines\",\"name\":\"TOTAL BOX OFFICE\",\"x\":[2021,2020,2019,2018,2017,2016,2015,2014,2013,2012,2011,2010,2009,2008,2007,2006,2005,2004,2003,2002,2001,2000,1999,1998,1997,1996,1995],\"y\":[3881777912,2048534616,11253443955,11948096650,10993991460,11267115924,11155900636,10272985008,10887446341,10992141616,10173519704,10482254025,10639257284,9750744148,9769854914,9161738221,8800805718,9287996519,9193277289,9155147215,8296849636,7532311479,7338894852,6771575283,6230235770,5769078886,5314421390],\"type\":\"scatter\"},{\"marker\":{\"color\":\"rgba(205, 210, 250,.7)\"},\"mode\":\"markers+lines\",\"name\":\"TOTAL INFLATION ADJUSTED BOX OFFICE\",\"x\":[2021,2020,2019,2018,2017,2016,2015,2014,2013,2012,2011,2010,2009,2008,2007,2006,2005,2004,2003,2002,2001,2000,1999,1998,1997,1996,1995],\"y\":[3881777912,2048534616,11253444050,12013670952,11226860216,11931416424,12121948075,11517810744,12266787382,12649244986,11751502955,12169509032,12994051137,12439665380,13007535993,12812442671,12576499367,13700165883,13965240914,14433929789,13427407722,12800734319,13233123027,13225505439,12433322785,11955781912,11190826105],\"type\":\"scatter\"}],                        {\"template\":{\"data\":{\"bar\":[{\"error_x\":{\"color\":\"#2a3f5f\"},\"error_y\":{\"color\":\"#2a3f5f\"},\"marker\":{\"line\":{\"color\":\"#E5ECF6\",\"width\":0.5},\"pattern\":{\"fillmode\":\"overlay\",\"size\":10,\"solidity\":0.2}},\"type\":\"bar\"}],\"barpolar\":[{\"marker\":{\"line\":{\"color\":\"#E5ECF6\",\"width\":0.5},\"pattern\":{\"fillmode\":\"overlay\",\"size\":10,\"solidity\":0.2}},\"type\":\"barpolar\"}],\"carpet\":[{\"aaxis\":{\"endlinecolor\":\"#2a3f5f\",\"gridcolor\":\"white\",\"linecolor\":\"white\",\"minorgridcolor\":\"white\",\"startlinecolor\":\"#2a3f5f\"},\"baxis\":{\"endlinecolor\":\"#2a3f5f\",\"gridcolor\":\"white\",\"linecolor\":\"white\",\"minorgridcolor\":\"white\",\"startlinecolor\":\"#2a3f5f\"},\"type\":\"carpet\"}],\"choropleth\":[{\"colorbar\":{\"outlinewidth\":0,\"ticks\":\"\"},\"type\":\"choropleth\"}],\"contour\":[{\"colorbar\":{\"outlinewidth\":0,\"ticks\":\"\"},\"colorscale\":[[0.0,\"#0d0887\"],[0.1111111111111111,\"#46039f\"],[0.2222222222222222,\"#7201a8\"],[0.3333333333333333,\"#9c179e\"],[0.4444444444444444,\"#bd3786\"],[0.5555555555555556,\"#d8576b\"],[0.6666666666666666,\"#ed7953\"],[0.7777777777777778,\"#fb9f3a\"],[0.8888888888888888,\"#fdca26\"],[1.0,\"#f0f921\"]],\"type\":\"contour\"}],\"contourcarpet\":[{\"colorbar\":{\"outlinewidth\":0,\"ticks\":\"\"},\"type\":\"contourcarpet\"}],\"heatmap\":[{\"colorbar\":{\"outlinewidth\":0,\"ticks\":\"\"},\"colorscale\":[[0.0,\"#0d0887\"],[0.1111111111111111,\"#46039f\"],[0.2222222222222222,\"#7201a8\"],[0.3333333333333333,\"#9c179e\"],[0.4444444444444444,\"#bd3786\"],[0.5555555555555556,\"#d8576b\"],[0.6666666666666666,\"#ed7953\"],[0.7777777777777778,\"#fb9f3a\"],[0.8888888888888888,\"#fdca26\"],[1.0,\"#f0f921\"]],\"type\":\"heatmap\"}],\"heatmapgl\":[{\"colorbar\":{\"outlinewidth\":0,\"ticks\":\"\"},\"colorscale\":[[0.0,\"#0d0887\"],[0.1111111111111111,\"#46039f\"],[0.2222222222222222,\"#7201a8\"],[0.3333333333333333,\"#9c179e\"],[0.4444444444444444,\"#bd3786\"],[0.5555555555555556,\"#d8576b\"],[0.6666666666666666,\"#ed7953\"],[0.7777777777777778,\"#fb9f3a\"],[0.8888888888888888,\"#fdca26\"],[1.0,\"#f0f921\"]],\"type\":\"heatmapgl\"}],\"histogram\":[{\"marker\":{\"pattern\":{\"fillmode\":\"overlay\",\"size\":10,\"solidity\":0.2}},\"type\":\"histogram\"}],\"histogram2d\":[{\"colorbar\":{\"outlinewidth\":0,\"ticks\":\"\"},\"colorscale\":[[0.0,\"#0d0887\"],[0.1111111111111111,\"#46039f\"],[0.2222222222222222,\"#7201a8\"],[0.3333333333333333,\"#9c179e\"],[0.4444444444444444,\"#bd3786\"],[0.5555555555555556,\"#d8576b\"],[0.6666666666666666,\"#ed7953\"],[0.7777777777777778,\"#fb9f3a\"],[0.8888888888888888,\"#fdca26\"],[1.0,\"#f0f921\"]],\"type\":\"histogram2d\"}],\"histogram2dcontour\":[{\"colorbar\":{\"outlinewidth\":0,\"ticks\":\"\"},\"colorscale\":[[0.0,\"#0d0887\"],[0.1111111111111111,\"#46039f\"],[0.2222222222222222,\"#7201a8\"],[0.3333333333333333,\"#9c179e\"],[0.4444444444444444,\"#bd3786\"],[0.5555555555555556,\"#d8576b\"],[0.6666666666666666,\"#ed7953\"],[0.7777777777777778,\"#fb9f3a\"],[0.8888888888888888,\"#fdca26\"],[1.0,\"#f0f921\"]],\"type\":\"histogram2dcontour\"}],\"mesh3d\":[{\"colorbar\":{\"outlinewidth\":0,\"ticks\":\"\"},\"type\":\"mesh3d\"}],\"parcoords\":[{\"line\":{\"colorbar\":{\"outlinewidth\":0,\"ticks\":\"\"}},\"type\":\"parcoords\"}],\"pie\":[{\"automargin\":true,\"type\":\"pie\"}],\"scatter\":[{\"marker\":{\"colorbar\":{\"outlinewidth\":0,\"ticks\":\"\"}},\"type\":\"scatter\"}],\"scatter3d\":[{\"line\":{\"colorbar\":{\"outlinewidth\":0,\"ticks\":\"\"}},\"marker\":{\"colorbar\":{\"outlinewidth\":0,\"ticks\":\"\"}},\"type\":\"scatter3d\"}],\"scattercarpet\":[{\"marker\":{\"colorbar\":{\"outlinewidth\":0,\"ticks\":\"\"}},\"type\":\"scattercarpet\"}],\"scattergeo\":[{\"marker\":{\"colorbar\":{\"outlinewidth\":0,\"ticks\":\"\"}},\"type\":\"scattergeo\"}],\"scattergl\":[{\"marker\":{\"colorbar\":{\"outlinewidth\":0,\"ticks\":\"\"}},\"type\":\"scattergl\"}],\"scattermapbox\":[{\"marker\":{\"colorbar\":{\"outlinewidth\":0,\"ticks\":\"\"}},\"type\":\"scattermapbox\"}],\"scatterpolar\":[{\"marker\":{\"colorbar\":{\"outlinewidth\":0,\"ticks\":\"\"}},\"type\":\"scatterpolar\"}],\"scatterpolargl\":[{\"marker\":{\"colorbar\":{\"outlinewidth\":0,\"ticks\":\"\"}},\"type\":\"scatterpolargl\"}],\"scatterternary\":[{\"marker\":{\"colorbar\":{\"outlinewidth\":0,\"ticks\":\"\"}},\"type\":\"scatterternary\"}],\"surface\":[{\"colorbar\":{\"outlinewidth\":0,\"ticks\":\"\"},\"colorscale\":[[0.0,\"#0d0887\"],[0.1111111111111111,\"#46039f\"],[0.2222222222222222,\"#7201a8\"],[0.3333333333333333,\"#9c179e\"],[0.4444444444444444,\"#bd3786\"],[0.5555555555555556,\"#d8576b\"],[0.6666666666666666,\"#ed7953\"],[0.7777777777777778,\"#fb9f3a\"],[0.8888888888888888,\"#fdca26\"],[1.0,\"#f0f921\"]],\"type\":\"surface\"}],\"table\":[{\"cells\":{\"fill\":{\"color\":\"#EBF0F8\"},\"line\":{\"color\":\"white\"}},\"header\":{\"fill\":{\"color\":\"#C8D4E3\"},\"line\":{\"color\":\"white\"}},\"type\":\"table\"}]},\"layout\":{\"annotationdefaults\":{\"arrowcolor\":\"#2a3f5f\",\"arrowhead\":0,\"arrowwidth\":1},\"autotypenumbers\":\"strict\",\"coloraxis\":{\"colorbar\":{\"outlinewidth\":0,\"ticks\":\"\"}},\"colorscale\":{\"diverging\":[[0,\"#8e0152\"],[0.1,\"#c51b7d\"],[0.2,\"#de77ae\"],[0.3,\"#f1b6da\"],[0.4,\"#fde0ef\"],[0.5,\"#f7f7f7\"],[0.6,\"#e6f5d0\"],[0.7,\"#b8e186\"],[0.8,\"#7fbc41\"],[0.9,\"#4d9221\"],[1,\"#276419\"]],\"sequential\":[[0.0,\"#0d0887\"],[0.1111111111111111,\"#46039f\"],[0.2222222222222222,\"#7201a8\"],[0.3333333333333333,\"#9c179e\"],[0.4444444444444444,\"#bd3786\"],[0.5555555555555556,\"#d8576b\"],[0.6666666666666666,\"#ed7953\"],[0.7777777777777778,\"#fb9f3a\"],[0.8888888888888888,\"#fdca26\"],[1.0,\"#f0f921\"]],\"sequentialminus\":[[0.0,\"#0d0887\"],[0.1111111111111111,\"#46039f\"],[0.2222222222222222,\"#7201a8\"],[0.3333333333333333,\"#9c179e\"],[0.4444444444444444,\"#bd3786\"],[0.5555555555555556,\"#d8576b\"],[0.6666666666666666,\"#ed7953\"],[0.7777777777777778,\"#fb9f3a\"],[0.8888888888888888,\"#fdca26\"],[1.0,\"#f0f921\"]]},\"colorway\":[\"#636efa\",\"#EF553B\",\"#00cc96\",\"#ab63fa\",\"#FFA15A\",\"#19d3f3\",\"#FF6692\",\"#B6E880\",\"#FF97FF\",\"#FECB52\"],\"font\":{\"color\":\"#2a3f5f\"},\"geo\":{\"bgcolor\":\"white\",\"lakecolor\":\"white\",\"landcolor\":\"#E5ECF6\",\"showlakes\":true,\"showland\":true,\"subunitcolor\":\"white\"},\"hoverlabel\":{\"align\":\"left\"},\"hovermode\":\"closest\",\"mapbox\":{\"style\":\"light\"},\"paper_bgcolor\":\"white\",\"plot_bgcolor\":\"#E5ECF6\",\"polar\":{\"angularaxis\":{\"gridcolor\":\"white\",\"linecolor\":\"white\",\"ticks\":\"\"},\"bgcolor\":\"#E5ECF6\",\"radialaxis\":{\"gridcolor\":\"white\",\"linecolor\":\"white\",\"ticks\":\"\"}},\"scene\":{\"xaxis\":{\"backgroundcolor\":\"#E5ECF6\",\"gridcolor\":\"white\",\"gridwidth\":2,\"linecolor\":\"white\",\"showbackground\":true,\"ticks\":\"\",\"zerolinecolor\":\"white\"},\"yaxis\":{\"backgroundcolor\":\"#E5ECF6\",\"gridcolor\":\"white\",\"gridwidth\":2,\"linecolor\":\"white\",\"showbackground\":true,\"ticks\":\"\",\"zerolinecolor\":\"white\"},\"zaxis\":{\"backgroundcolor\":\"#E5ECF6\",\"gridcolor\":\"white\",\"gridwidth\":2,\"linecolor\":\"white\",\"showbackground\":true,\"ticks\":\"\",\"zerolinecolor\":\"white\"}},\"shapedefaults\":{\"line\":{\"color\":\"#2a3f5f\"}},\"ternary\":{\"aaxis\":{\"gridcolor\":\"white\",\"linecolor\":\"white\",\"ticks\":\"\"},\"baxis\":{\"gridcolor\":\"white\",\"linecolor\":\"white\",\"ticks\":\"\"},\"bgcolor\":\"#E5ECF6\",\"caxis\":{\"gridcolor\":\"white\",\"linecolor\":\"white\",\"ticks\":\"\"}},\"title\":{\"x\":0.05},\"xaxis\":{\"automargin\":true,\"gridcolor\":\"white\",\"linecolor\":\"white\",\"ticks\":\"\",\"title\":{\"standoff\":15},\"zerolinecolor\":\"white\",\"zerolinewidth\":2},\"yaxis\":{\"automargin\":true,\"gridcolor\":\"white\",\"linecolor\":\"white\",\"ticks\":\"\",\"title\":{\"standoff\":15},\"zerolinecolor\":\"white\",\"zerolinewidth\":2}}},\"yaxis\":{\"showgrid\":false,\"showline\":true,\"linecolor\":\"rgb(0,0,0)\",\"title\":{\"text\":\"USD\"}},\"xaxis\":{\"showgrid\":false,\"showline\":true,\"linecolor\":\"rgb(0,0,0)\",\"title\":{\"text\":\"YEAR\"}},\"title\":{\"text\":\"TOTAL BOX OFFICE AND INFLATION EACH YEAR\"},\"paper_bgcolor\":\"rgb(255,255,255)\",\"plot_bgcolor\":\"rgb(255,255,255)\",\"hovermode\":\"x unified\",\"annotations\":[{\"text\":\"Highest TOTAL INFLATION BOX OFFICE\",\"x\":2002.0,\"y\":14433929789},{\"text\":\"Highest TOTAL BOX OFFICE\",\"x\":2018.0,\"y\":11948096650}]},                        {\"responsive\": true}                    ).then(function(){\n",
              "                            \n",
              "var gd = document.getElementById('6a2aed83-2426-4ece-8a1f-57b9177b3f1e');\n",
              "var x = new MutationObserver(function (mutations, observer) {{\n",
              "        var display = window.getComputedStyle(gd).display;\n",
              "        if (!display || display === 'none') {{\n",
              "            console.log([gd, 'removed!']);\n",
              "            Plotly.purge(gd);\n",
              "            observer.disconnect();\n",
              "        }}\n",
              "}});\n",
              "\n",
              "// Listen for the removal of the full notebook cells\n",
              "var notebookContainer = gd.closest('#notebook-container');\n",
              "if (notebookContainer) {{\n",
              "    x.observe(notebookContainer, {childList: true});\n",
              "}}\n",
              "\n",
              "// Listen for the clearing of the current output cell\n",
              "var outputEl = gd.closest('.output');\n",
              "if (outputEl) {{\n",
              "    x.observe(outputEl, {childList: true});\n",
              "}}\n",
              "\n",
              "                        })                };                            </script>        </div>\n",
              "</body>\n",
              "</html>"
            ]
          },
          "metadata": {}
        }
      ]
    },
    {
      "cell_type": "markdown",
      "source": [
        "From the graph we can see that Highest total iflation box office happened in 2002,  however highest total box office was observed in 2018."
      ],
      "metadata": {
        "id": "qTroPUSQFDRM"
      }
    },
    {
      "cell_type": "markdown",
      "source": [
        "Now we can analyze the correlation between Ticket Price and other variables including 'TICKETS SOLD', 'TOTAL BOX OFFICE' and 'TOTAL BOX OFFICE ADJUSTED INFLATION'"
      ],
      "metadata": {
        "id": "zaWr0-4-HsNo"
      }
    },
    {
      "cell_type": "code",
      "source": [
        "#Correlation matrix\n",
        "cormat=AnnualTicketSales.corr()\n",
        "round(cormat,2)"
      ],
      "metadata": {
        "colab": {
          "base_uri": "https://localhost:8080/",
          "height": 206
        },
        "id": "ilciW2sBIeI6",
        "outputId": "de1bb342-3b49-43dc-f3f9-3646948859b2"
      },
      "execution_count": 112,
      "outputs": [
        {
          "output_type": "execute_result",
          "data": {
            "text/html": [
              "\n",
              "  <div id=\"df-1ca14171-03c6-4368-b1e4-c50c4bcf523f\">\n",
              "    <div class=\"colab-df-container\">\n",
              "      <div>\n",
              "<style scoped>\n",
              "    .dataframe tbody tr th:only-of-type {\n",
              "        vertical-align: middle;\n",
              "    }\n",
              "\n",
              "    .dataframe tbody tr th {\n",
              "        vertical-align: top;\n",
              "    }\n",
              "\n",
              "    .dataframe thead th {\n",
              "        text-align: right;\n",
              "    }\n",
              "</style>\n",
              "<table border=\"1\" class=\"dataframe\">\n",
              "  <thead>\n",
              "    <tr style=\"text-align: right;\">\n",
              "      <th></th>\n",
              "      <th>YEAR</th>\n",
              "      <th>TICKETS SOLD</th>\n",
              "      <th>TOTAL BOX OFFICE</th>\n",
              "      <th>TOTAL INFLATION ADJUSTED BOX OFFICE</th>\n",
              "      <th>AVERAGE TICKET PRICE</th>\n",
              "    </tr>\n",
              "  </thead>\n",
              "  <tbody>\n",
              "    <tr>\n",
              "      <th>YEAR</th>\n",
              "      <td>1.00</td>\n",
              "      <td>-0.55</td>\n",
              "      <td>0.30</td>\n",
              "      <td>-0.55</td>\n",
              "      <td>0.99</td>\n",
              "    </tr>\n",
              "    <tr>\n",
              "      <th>TICKETS SOLD</th>\n",
              "      <td>-0.55</td>\n",
              "      <td>1.00</td>\n",
              "      <td>0.62</td>\n",
              "      <td>1.00</td>\n",
              "      <td>-0.48</td>\n",
              "    </tr>\n",
              "    <tr>\n",
              "      <th>TOTAL BOX OFFICE</th>\n",
              "      <td>0.30</td>\n",
              "      <td>0.62</td>\n",
              "      <td>1.00</td>\n",
              "      <td>0.62</td>\n",
              "      <td>0.39</td>\n",
              "    </tr>\n",
              "    <tr>\n",
              "      <th>TOTAL INFLATION ADJUSTED BOX OFFICE</th>\n",
              "      <td>-0.55</td>\n",
              "      <td>1.00</td>\n",
              "      <td>0.62</td>\n",
              "      <td>1.00</td>\n",
              "      <td>-0.48</td>\n",
              "    </tr>\n",
              "    <tr>\n",
              "      <th>AVERAGE TICKET PRICE</th>\n",
              "      <td>0.99</td>\n",
              "      <td>-0.48</td>\n",
              "      <td>0.39</td>\n",
              "      <td>-0.48</td>\n",
              "      <td>1.00</td>\n",
              "    </tr>\n",
              "  </tbody>\n",
              "</table>\n",
              "</div>\n",
              "      <button class=\"colab-df-convert\" onclick=\"convertToInteractive('df-1ca14171-03c6-4368-b1e4-c50c4bcf523f')\"\n",
              "              title=\"Convert this dataframe to an interactive table.\"\n",
              "              style=\"display:none;\">\n",
              "        \n",
              "  <svg xmlns=\"http://www.w3.org/2000/svg\" height=\"24px\"viewBox=\"0 0 24 24\"\n",
              "       width=\"24px\">\n",
              "    <path d=\"M0 0h24v24H0V0z\" fill=\"none\"/>\n",
              "    <path d=\"M18.56 5.44l.94 2.06.94-2.06 2.06-.94-2.06-.94-.94-2.06-.94 2.06-2.06.94zm-11 1L8.5 8.5l.94-2.06 2.06-.94-2.06-.94L8.5 2.5l-.94 2.06-2.06.94zm10 10l.94 2.06.94-2.06 2.06-.94-2.06-.94-.94-2.06-.94 2.06-2.06.94z\"/><path d=\"M17.41 7.96l-1.37-1.37c-.4-.4-.92-.59-1.43-.59-.52 0-1.04.2-1.43.59L10.3 9.45l-7.72 7.72c-.78.78-.78 2.05 0 2.83L4 21.41c.39.39.9.59 1.41.59.51 0 1.02-.2 1.41-.59l7.78-7.78 2.81-2.81c.8-.78.8-2.07 0-2.86zM5.41 20L4 18.59l7.72-7.72 1.47 1.35L5.41 20z\"/>\n",
              "  </svg>\n",
              "      </button>\n",
              "      \n",
              "  <style>\n",
              "    .colab-df-container {\n",
              "      display:flex;\n",
              "      flex-wrap:wrap;\n",
              "      gap: 12px;\n",
              "    }\n",
              "\n",
              "    .colab-df-convert {\n",
              "      background-color: #E8F0FE;\n",
              "      border: none;\n",
              "      border-radius: 50%;\n",
              "      cursor: pointer;\n",
              "      display: none;\n",
              "      fill: #1967D2;\n",
              "      height: 32px;\n",
              "      padding: 0 0 0 0;\n",
              "      width: 32px;\n",
              "    }\n",
              "\n",
              "    .colab-df-convert:hover {\n",
              "      background-color: #E2EBFA;\n",
              "      box-shadow: 0px 1px 2px rgba(60, 64, 67, 0.3), 0px 1px 3px 1px rgba(60, 64, 67, 0.15);\n",
              "      fill: #174EA6;\n",
              "    }\n",
              "\n",
              "    [theme=dark] .colab-df-convert {\n",
              "      background-color: #3B4455;\n",
              "      fill: #D2E3FC;\n",
              "    }\n",
              "\n",
              "    [theme=dark] .colab-df-convert:hover {\n",
              "      background-color: #434B5C;\n",
              "      box-shadow: 0px 1px 3px 1px rgba(0, 0, 0, 0.15);\n",
              "      filter: drop-shadow(0px 1px 2px rgba(0, 0, 0, 0.3));\n",
              "      fill: #FFFFFF;\n",
              "    }\n",
              "  </style>\n",
              "\n",
              "      <script>\n",
              "        const buttonEl =\n",
              "          document.querySelector('#df-1ca14171-03c6-4368-b1e4-c50c4bcf523f button.colab-df-convert');\n",
              "        buttonEl.style.display =\n",
              "          google.colab.kernel.accessAllowed ? 'block' : 'none';\n",
              "\n",
              "        async function convertToInteractive(key) {\n",
              "          const element = document.querySelector('#df-1ca14171-03c6-4368-b1e4-c50c4bcf523f');\n",
              "          const dataTable =\n",
              "            await google.colab.kernel.invokeFunction('convertToInteractive',\n",
              "                                                     [key], {});\n",
              "          if (!dataTable) return;\n",
              "\n",
              "          const docLinkHtml = 'Like what you see? Visit the ' +\n",
              "            '<a target=\"_blank\" href=https://colab.research.google.com/notebooks/data_table.ipynb>data table notebook</a>'\n",
              "            + ' to learn more about interactive tables.';\n",
              "          element.innerHTML = '';\n",
              "          dataTable['output_type'] = 'display_data';\n",
              "          await google.colab.output.renderOutput(dataTable, element);\n",
              "          const docLink = document.createElement('div');\n",
              "          docLink.innerHTML = docLinkHtml;\n",
              "          element.appendChild(docLink);\n",
              "        }\n",
              "      </script>\n",
              "    </div>\n",
              "  </div>\n",
              "  "
            ],
            "text/plain": [
              "                                     YEAR  ...  AVERAGE TICKET PRICE\n",
              "YEAR                                 1.00  ...                  0.99\n",
              "TICKETS SOLD                        -0.55  ...                 -0.48\n",
              "TOTAL BOX OFFICE                     0.30  ...                  0.39\n",
              "TOTAL INFLATION ADJUSTED BOX OFFICE -0.55  ...                 -0.48\n",
              "AVERAGE TICKET PRICE                 0.99  ...                  1.00\n",
              "\n",
              "[5 rows x 5 columns]"
            ]
          },
          "metadata": {},
          "execution_count": 112
        }
      ]
    },
    {
      "cell_type": "markdown",
      "source": [
        "From the values we can see that there the correlation between Average Ticket Price and other value are not that strong. Let's plot it!"
      ],
      "metadata": {
        "id": "u7CiDQMRJhPj"
      }
    },
    {
      "cell_type": "code",
      "source": [
        "# plotting the correlation matrix \n",
        "sns.heatmap(cormat)"
      ],
      "metadata": {
        "colab": {
          "base_uri": "https://localhost:8080/",
          "height": 479
        },
        "id": "4HtsfSqhKNi6",
        "outputId": "9bfffa41-8991-4ffe-9788-c73474788d0b"
      },
      "execution_count": 119,
      "outputs": [
        {
          "output_type": "execute_result",
          "data": {
            "text/plain": [
              "<matplotlib.axes._subplots.AxesSubplot at 0x7f2a174faa10>"
            ]
          },
          "metadata": {},
          "execution_count": 119
        },
        {
          "output_type": "display_data",
          "data": {
            "image/png": "[encoded data removed]",
            "text/plain": [
              "<Figure size 432x288 with 2 Axes>"
            ]
          },
          "metadata": {
            "needs_background": "light"
          }
        }
      ]
    },
    {
      "cell_type": "markdown",
      "source": [
        "From this correlation graph we can observe that there is actually correlation. Now let's observe it in the plots."
      ],
      "metadata": {
        "id": "NZW2VT0ZK8fV"
      }
    },
    {
      "cell_type": "code",
      "source": [
        "#plotting AVERAGE TICKET PRICE AND other variables in subplots to observe the correlation\n",
        "\n",
        "plt_1=plt.figure(figsize=[15,5])\n",
        "#plot 1\n",
        "plt.subplot(1,3,1)\n",
        "plt.scatter(y=AnnualTicketSales['AVERAGE TICKET PRICE'], x=AnnualTicketSales['TICKETS SOLD'])\n",
        "plt.ylabel('AVERAGE TICKET PRICE')\n",
        "plt.xlabel('TICKETS SOLD')\n",
        "\n",
        "#plot 2\n",
        "plt.subplot(1,3,2)\n",
        "plt.scatter(y=AnnualTicketSales['AVERAGE TICKET PRICE'], x=AnnualTicketSales['TOTAL BOX OFFICE'])\n",
        "plt.ylabel('AVERAGE TICKET PRICE')\n",
        "plt.xlabel('TOTAL BOX OFFICE')\n",
        "\n",
        "#plot 3\n",
        "plt.subplot(1,3,3)\n",
        "plt.scatter(y=AnnualTicketSales['AVERAGE TICKET PRICE'], x=AnnualTicketSales['TOTAL INFLATION ADJUSTED BOX OFFICE'])\n",
        "plt.ylabel('AVERAGE TICKET PRICE')\n",
        "plt.xlabel('TOTAL INFLATION ADJUSTED BOX OFFICE')\n"
      ],
      "metadata": {
        "colab": {
          "base_uri": "https://localhost:8080/",
          "height": 351
        },
        "id": "6jsPxBbgLpvB",
        "outputId": "9774c2cd-8f0e-4dcc-d68f-d89adb18e050"
      },
      "execution_count": 135,
      "outputs": [
        {
          "output_type": "execute_result",
          "data": {
            "text/plain": [
              "Text(0.5, 0, 'TOTAL INFLATION ADJUSTED BOX OFFICE')"
            ]
          },
          "metadata": {},
          "execution_count": 135
        },
        {
          "output_type": "display_data",
          "data": {
            "image/png": "[encoded data removed]",
            "text/plain": [
              "<Figure size 1080x360 with 3 Axes>"
            ]
          },
          "metadata": {
            "needs_background": "light"
          }
        }
      ]
    },
    {
      "cell_type": "markdown",
      "source": [
        "If we remove the outliers we can see there is positive correlation on Total Box Office and somehow negative correlation with Tickets Sold and Inflation, but it is not strong. That is all from Annula Ticket Sales data."
      ],
      "metadata": {
        "id": "Dv36fYfQLsjA"
      }
    },
    {
      "cell_type": "markdown",
      "source": [
        "### Highest Grossers "
      ],
      "metadata": {
        "id": "71g8T-YpO9er"
      }
    },
    {
      "cell_type": "code",
      "source": [
        ""
      ],
      "metadata": {
        "id": "8a095hccPAox"
      },
      "execution_count": null,
      "outputs": []
    }
  ]
}